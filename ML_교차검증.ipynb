{
  "nbformat": 4,
  "nbformat_minor": 0,
  "metadata": {
    "colab": {
      "provenance": [],
      "authorship_tag": "ABX9TyO3F8dwq7pmCuDBdjIuqGTz",
      "include_colab_link": true
    },
    "kernelspec": {
      "name": "python3",
      "display_name": "Python 3"
    },
    "language_info": {
      "name": "python"
    }
  },
  "cells": [
    {
      "cell_type": "markdown",
      "metadata": {
        "id": "view-in-github",
        "colab_type": "text"
      },
      "source": [
        "<a href=\"https://colab.research.google.com/github/Jungddaseul/AI_study/blob/main/ML_%EA%B5%90%EC%B0%A8%EA%B2%80%EC%A6%9D.ipynb\" target=\"_parent\"><img src=\"https://colab.research.google.com/assets/colab-badge.svg\" alt=\"Open In Colab\"/></a>"
      ]
    },
    {
      "cell_type": "markdown",
      "source": [
        "## 모델 평가 - 교차 검증\n",
        "### 학습내용\n",
        "- 교차 검증의 기본 개념을 이해\n",
        "- 교차 검증의 장담점을 알아보기\n",
        "- IRIS 데이터 셋을 활용하여 교차 검증해보기\n"
      ],
      "metadata": {
        "id": "pBtCSC3VoTk2"
      }
    },
    {
      "cell_type": "markdown",
      "source": [
        "##01 교차 검증에 대해 알아보기\n",
        "- 학습용 세트와 테스트 세트로 한번 나누는 것보다 더 안정적이고 뛰어난 통계적 평가 방법\n",
        "- 데이터를 여러번 반복해서 나누고 여러 모델을 학습\n",
        "- 가장 널리 쓰이는 교차 검증 방법은 k-겹 교차 검증(k-fold cross-validation)\n",
        "- 보통 5 또는 10을 사용한다."
      ],
      "metadata": {
        "id": "mu04Anc8og5G"
      }
    },
    {
      "cell_type": "code",
      "execution_count": 13,
      "metadata": {
        "id": "yoblrr-xkylF"
      },
      "outputs": [],
      "source": [
        "import os, warnings\n",
        "# 경고 메시지 무시하거나 숨길때(ignore), 다시보이게(default)\n",
        "# warnings.filterwarnings(action='default')\n",
        "warnings.filterwarnings(action='ignore')\n",
        "\n",
        "import pandas as pd\n",
        "import numpy as np"
      ]
    },
    {
      "cell_type": "markdown",
      "source": [
        "### 교차 검증 실습\n",
        "- sklearn의 21버전은 cv(k폴더의 수)가 3으로 기본 지정\n",
        "- sklearn의 22버전부터는 cv가 기본이 5로 지정"
      ],
      "metadata": {
        "id": "UrXlGcfSqSXn"
      }
    },
    {
      "cell_type": "code",
      "source": [
        "from sklearn.datasets import load_iris\n",
        "from sklearn.model_selection import cross_val_score\n",
        "from sklearn.neighbors import KNeighborsClassifier\n",
        "from sklearn.linear_model import LogisticRegression\n",
        "\n",
        "iris = load_iris()\n",
        "logreg = LogisticRegression()"
      ],
      "metadata": {
        "id": "lbsX8Rlkl_aD"
      },
      "execution_count": 25,
      "outputs": []
    },
    {
      "cell_type": "code",
      "source": [
        "scores = cross_val_score(logreg, iris.data, iris.target)\n",
        "print(\"교차 검증 점수 : {}\".format(scores))"
      ],
      "metadata": {
        "colab": {
          "base_uri": "https://localhost:8080/"
        },
        "id": "MJMS8UPZmV1y",
        "outputId": "b4fc3c39-03c5-4a67-fba6-009693544877"
      },
      "execution_count": 27,
      "outputs": [
        {
          "output_type": "stream",
          "name": "stdout",
          "text": [
            "교차 검증 점수 : [0.96666667 1.         0.93333333 0.96666667 1.        ]\n"
          ]
        }
      ]
    },
    {
      "cell_type": "markdown",
      "source": [
        "### 실습 : cv의 매개변수를 이용하여 폴더의 수를 3으로 해보기"
      ],
      "metadata": {
        "id": "CRmkZAeWq9ep"
      }
    },
    {
      "cell_type": "code",
      "source": [
        "scores = cross_val_score(logreg, iris.data, iris.target, cv=3)\n",
        "print(\"교차 검증 점수 : {}\".format(scores))"
      ],
      "metadata": {
        "colab": {
          "base_uri": "https://localhost:8080/"
        },
        "id": "DLqwACKbrCFR",
        "outputId": "90340533-0935-4d1d-cd49-91960442e7bd"
      },
      "execution_count": 28,
      "outputs": [
        {
          "output_type": "stream",
          "name": "stdout",
          "text": [
            "교차 검증 점수 : [0.98 0.96 0.98]\n"
          ]
        }
      ]
    },
    {
      "cell_type": "code",
      "source": [
        "print(\"교차 검증 점수 : {:.2f}\".format(scores.mean()))"
      ],
      "metadata": {
        "colab": {
          "base_uri": "https://localhost:8080/"
        },
        "id": "mGmANsf3rJBY",
        "outputId": "e793f65f-1177-4a41-caff-f2c9e44b5d21"
      },
      "execution_count": 29,
      "outputs": [
        {
          "output_type": "stream",
          "name": "stdout",
          "text": [
            "교차 검증 점수 : 0.97\n"
          ]
        }
      ]
    },
    {
      "cell_type": "markdown",
      "source": [
        "### 교차 검증의 장점\n",
        "- 데이터를 무작위로 나눌 때 운 좋게 학습용 세트에는 분류하기 어려운 샘플이 담길 수 있음\n",
        "  * 이 경우 테스트 세트에 분류에 좋은 샘플이 담긴다면 좋은 정확도가 얻어질 겅미\n",
        "- 반대로 훈련세트에 분류가 쉽고, 테스트의 세트에 분류가 어려운 샘플이 담긴다면, 테스트 세트의 정확도는 낮은 결과가 나올 것임\n",
        "#### 장점 1 : 일반화된 모델을 생성할 수 있음\n",
        "#### 장점 2 : 분할을 한 번 했을 때보다 데이터를 더 효과적으로 사용이 가능함\n",
        "\n",
        "### 교차 검증의 단점\n",
        "#### - 연산 비용이 늘어남. 모델을 k개를 만들어야 하므로 데이터를 한 번 나눴을 때보다 k배가 더 느림"
      ],
      "metadata": {
        "id": "QJRSXLELrKjd"
      }
    },
    {
      "cell_type": "markdown",
      "source": [
        "## 02 계층별 k-겹 교차 검증에 대해 알아보기"
      ],
      "metadata": {
        "id": "qT7vt8EGrm5r"
      }
    },
    {
      "cell_type": "code",
      "source": [
        "from sklearn.datasets import load_iris\n",
        "iris = load_iris()\n",
        "print(\"iris 레이블 :\\n{}\".format(iris.target))"
      ],
      "metadata": {
        "colab": {
          "base_uri": "https://localhost:8080/"
        },
        "id": "lbwJk0dfrmnK",
        "outputId": "732ae195-4446-4a89-b54c-cc365b9201fe"
      },
      "execution_count": 30,
      "outputs": [
        {
          "output_type": "stream",
          "name": "stdout",
          "text": [
            "iris 레이블 :\n",
            "[0 0 0 0 0 0 0 0 0 0 0 0 0 0 0 0 0 0 0 0 0 0 0 0 0 0 0 0 0 0 0 0 0 0 0 0 0\n",
            " 0 0 0 0 0 0 0 0 0 0 0 0 0 1 1 1 1 1 1 1 1 1 1 1 1 1 1 1 1 1 1 1 1 1 1 1 1\n",
            " 1 1 1 1 1 1 1 1 1 1 1 1 1 1 1 1 1 1 1 1 1 1 1 1 1 1 2 2 2 2 2 2 2 2 2 2 2\n",
            " 2 2 2 2 2 2 2 2 2 2 2 2 2 2 2 2 2 2 2 2 2 2 2 2 2 2 2 2 2 2 2 2 2 2 2 2 2\n",
            " 2 2]\n"
          ]
        }
      ]
    },
    {
      "cell_type": "markdown",
      "source": [
        "위의 데이터를 순서대로 나눌 경우 편향이 발생함"
      ],
      "metadata": {
        "id": "HdLOQySTrsd7"
      }
    },
    {
      "cell_type": "markdown",
      "source": [
        "### 단순한 k-fold 교차 검증은 문제가 발생\n",
        "### scikit-learn에서 계층별 교차 검증을 사용\n",
        "- 계층별 교차 검증 : stratified k-fold cross-validation"
      ],
      "metadata": {
        "id": "C45Ugiomr0Fd"
      }
    },
    {
      "cell_type": "code",
      "source": [
        "from sklearn.model_selection import KFold\n",
        "\n",
        "logreg = LogisticRegression()\n",
        "kfold = KFold(n_splits=5, shuffle=True, random_state=0)\n",
        "print('교차 검증 점수 :\\n{}'.format(cross_val_score(logreg,\n",
        "                                              iris.data,\n",
        "                                              iris.target, cv=kfold)) )"
      ],
      "metadata": {
        "colab": {
          "base_uri": "https://localhost:8080/"
        },
        "id": "Syuca85DmgvS",
        "outputId": "9118a80e-7132-41a3-9ced-5fbef09026f3"
      },
      "execution_count": 33,
      "outputs": [
        {
          "output_type": "stream",
          "name": "stdout",
          "text": [
            "교차 검증 점수 :\n",
            "[1.         0.83333333 1.         1.         0.93333333]\n"
          ]
        }
      ]
    },
    {
      "cell_type": "code",
      "source": [
        "kfold = KFold(n_splits=3, shuffle=True, random_state=0)\n",
        "print(\"교차 검증 점수 : \\n{}\".format(cross_val_score(logreg, \n",
        "                                               iris.data, \n",
        "                                               iris.target, cv=kfold)))"
      ],
      "metadata": {
        "colab": {
          "base_uri": "https://localhost:8080/"
        },
        "id": "oOFfNM7Im8pL",
        "outputId": "08a97a76-ee4f-441b-a205-dc979570963a"
      },
      "execution_count": 34,
      "outputs": [
        {
          "output_type": "stream",
          "name": "stdout",
          "text": [
            "교차 검증 점수 : \n",
            "[0.98 0.96 0.96]\n"
          ]
        }
      ]
    },
    {
      "cell_type": "code",
      "source": [],
      "metadata": {
        "id": "JBFcKXmHsgZ6"
      },
      "execution_count": null,
      "outputs": []
    }
  ]
}