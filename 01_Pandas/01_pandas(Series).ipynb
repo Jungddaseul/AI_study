{
 "cells": [
  {
   "cell_type": "code",
   "execution_count": 2,
   "id": "a250738b",
   "metadata": {},
   "outputs": [],
   "source": [
    "import pandas as pd\n",
    "import numpy as np"
   ]
  },
  {
   "cell_type": "markdown",
   "id": "e404563b",
   "metadata": {},
   "source": [
    "## 1. 시리즈(Series)\n",
    "- 시리즈는 배열과 유사한 판다스의 데이터 구조\n",
    "- 각 데이터를 의미를 표시하는 인덱스(indax)를 붙일 수 있다.\n",
    "- 하나의 Series 내에서는 하나의 자료형만 가질 수 있는 homogeneous 타입의 container이다.\n",
    "- 시리즈의 인덱스는 index 속성으로 접근할 수 있으며 시리즈의 값은 1차원 배열이며 values 속성으로 접근할 수 있다.\n",
    "- name 속성을 이용하여 시리즈 데이터에 이름을 붙일 수 있다.\n",
    "- index.name 속성으로 시리즈의 인덱스에도 이름을 붙일 수 있다."
   ]
  },
  {
   "cell_type": "code",
   "execution_count": 4,
   "id": "8af06d26",
   "metadata": {},
   "outputs": [
    {
     "data": {
      "text/plain": [
       "0     3\n",
       "1    46\n",
       "2     2\n",
       "3    -5\n",
       "4     7\n",
       "5     1\n",
       "dtype: int64"
      ]
     },
     "execution_count": 4,
     "metadata": {},
     "output_type": "execute_result"
    }
   ],
   "source": [
    "# Series() 생성자를 호출하고 객체를 생성할 때 포함할 값을 배열 인수로 전달\n",
    "ser1 = pd.Series([3, 46, 2, -5, 7, 1])\n",
    "ser1"
   ]
  },
  {
   "cell_type": "code",
   "execution_count": 7,
   "id": "8d36c214",
   "metadata": {},
   "outputs": [
    {
     "data": {
      "text/plain": [
       "u    3\n",
       "v   -6\n",
       "w    2\n",
       "x   -5\n",
       "y    7\n",
       "z    1\n",
       "dtype: int64"
      ]
     },
     "execution_count": 7,
     "metadata": {},
     "output_type": "execute_result"
    }
   ],
   "source": [
    "# 생성자를 호출할 때 인덱스 옵션을 통해서 인덱스를 지정할 수 있다.\n",
    "ser2 = pd.Series([3, -6, 2, -5, 7, 1], index=['u', 'v','w', 'x','y','z'])\n",
    "ser2"
   ]
  },
  {
   "cell_type": "code",
   "execution_count": 10,
   "id": "eb0164dd",
   "metadata": {},
   "outputs": [
    {
     "name": "stdout",
     "output_type": "stream",
     "text": [
      "인덱스 : Index(['u', 'v', 'w', 'x', 'y', 'z'], dtype='object')\n",
      "값 : [ 3 -6  2 -5  7  1]\n"
     ]
    }
   ],
   "source": [
    "# index, value를 사용하여 출력\n",
    "print(f'인덱스 : {ser2.index}')\n",
    "print(f'값 : {ser2.values}')"
   ]
  },
  {
   "cell_type": "code",
   "execution_count": 22,
   "id": "af051f67",
   "metadata": {},
   "outputs": [
    {
     "name": "stdout",
     "output_type": "stream",
     "text": [
      "key를 지정 : 2\n",
      "특정 인덱스명 : -5\n",
      "인덱스 0~1 범위의 값 : u    3\n",
      "v   -6\n",
      "dtype: int64\n",
      "인덱스명을 받아 값 출력 : y    7\n",
      "z    1\n",
      "dtype: int64\n"
     ]
    }
   ],
   "source": [
    "# key를 지정해서 개별 요소를 숫자 배열로 선택할 수 있다.\n",
    "# 특정 인덱스 명의 값만 출력할 수 있고 범위를 지정해서 출력할 수도 있다.\n",
    "# 또한, 인덱스 명을 받아 값을 출력할 수 있다.\n",
    "\n",
    "print(f'key를 지정 : {ser2[2]}')\n",
    "print(f'특정 인덱스명 : {ser2[\"x\"]}')\n",
    "print(f'인덱스 0~1 범위의 값 : {ser2[0:2]}')\n",
    "print(f'인덱스명을 받아 값 출력 : {ser2[[\"y\", \"z\"]]}')"
   ]
  },
  {
   "cell_type": "code",
   "execution_count": 23,
   "id": "7c3c2ff7",
   "metadata": {},
   "outputs": [
    {
     "data": {
      "text/plain": [
       "u      3\n",
       "v     -6\n",
       "w    100\n",
       "x     -5\n",
       "y      7\n",
       "z      1\n",
       "dtype: int64"
      ]
     },
     "execution_count": 23,
     "metadata": {},
     "output_type": "execute_result"
    }
   ],
   "source": [
    "# 키를 지정 : 세 번째 인덱스 값\n",
    "ser2[2] = 100\n",
    "ser2"
   ]
  },
  {
   "cell_type": "code",
   "execution_count": 24,
   "id": "90d7e126",
   "metadata": {},
   "outputs": [
    {
     "data": {
      "text/plain": [
       "u       3\n",
       "v      -6\n",
       "w     100\n",
       "x    3000\n",
       "y       7\n",
       "z       1\n",
       "dtype: int64"
      ]
     },
     "execution_count": 24,
     "metadata": {},
     "output_type": "execute_result"
    }
   ],
   "source": [
    "# 특정 인덱스명 이용\n",
    "ser2['x'] = 3000\n",
    "ser2"
   ]
  },
  {
   "cell_type": "markdown",
   "id": "ed169e44",
   "metadata": {},
   "source": [
    "### 1-1. 넘파이를 통해 시리즈 정의하기"
   ]
  },
  {
   "cell_type": "code",
   "execution_count": 28,
   "id": "457b5a8e",
   "metadata": {},
   "outputs": [
    {
     "name": "stdout",
     "output_type": "stream",
     "text": [
      "0    1\n",
      "1    3\n",
      "2    5\n",
      "3    7\n",
      "4    9\n",
      "dtype: int32\n"
     ]
    }
   ],
   "source": [
    "arr1 = np.array([1, 3, 5, 7, 9])\n",
    "\n",
    "ser_arr1 = pd.Series(arr1)\n",
    "print(ser_arr1)"
   ]
  },
  {
   "cell_type": "code",
   "execution_count": 41,
   "id": "8082ee35",
   "metadata": {},
   "outputs": [
    {
     "name": "stdout",
     "output_type": "stream",
     "text": [
      "갑       1\n",
      "을       3\n",
      "병    1000\n",
      "정       7\n",
      "무       9\n",
      "dtype: int32\n"
     ]
    }
   ],
   "source": [
    "# 인덱스명 수정하기\n",
    "ser3 = pd.Series(arr1, index=['갑', '을', '병', '정', '무'])\n",
    "print(ser3)"
   ]
  },
  {
   "cell_type": "markdown",
   "id": "5ba1b411",
   "metadata": {},
   "source": [
    "### 1-2. 값 변경, 필터링, 연산자 및 수학적 함수 이용"
   ]
  },
  {
   "cell_type": "code",
   "execution_count": 42,
   "id": "d9560234",
   "metadata": {},
   "outputs": [
    {
     "name": "stdout",
     "output_type": "stream",
     "text": [
      "0       1\n",
      "1       3\n",
      "2    1000\n",
      "3       7\n",
      "4       9\n",
      "dtype: int32\n"
     ]
    }
   ],
   "source": [
    "# 넘파이 배열이나 원본 열에 포함된 값은 복사되지 않고 참조에 의해 전달된다.\n",
    "# 즉, 넘파이 배열이 변경되면 시리즈 객체도 변경된다.\n",
    "arr1[2] = 1000\n",
    "print(ser_arr1)"
   ]
  },
  {
   "cell_type": "code",
   "execution_count": 43,
   "id": "8538282e",
   "metadata": {},
   "outputs": [
    {
     "name": "stdout",
     "output_type": "stream",
     "text": [
      "병    1000\n",
      "정       7\n",
      "무       9\n",
      "dtype: int32\n"
     ]
    }
   ],
   "source": [
    "# 조건을 통한 필터링\n",
    "print(ser3[ser3>5])"
   ]
  },
  {
   "cell_type": "code",
   "execution_count": 44,
   "id": "a429eafc",
   "metadata": {},
   "outputs": [
    {
     "name": "stdout",
     "output_type": "stream",
     "text": [
      "갑      0.5\n",
      "을      1.5\n",
      "병    500.0\n",
      "정      3.5\n",
      "무      4.5\n",
      "dtype: float64\n"
     ]
    }
   ],
   "source": [
    "# 연산자 및 수학적 함수를 적용\n",
    "print(ser3/2)"
   ]
  },
  {
   "cell_type": "markdown",
   "id": "edb951b9",
   "metadata": {},
   "source": [
    "### 1-3. unique() 함수와 value_conts() 함수\n",
    "- Series에 포함된 모든 값을 알기 위해서는 unique() 함수를 사용\n",
    "- unique() 함수와 유사한 value_conts() 함수는 고유한 값과 개수를 반환"
   ]
  },
  {
   "cell_type": "code",
   "execution_count": 46,
   "id": "50fd4fe6",
   "metadata": {},
   "outputs": [
    {
     "name": "stdout",
     "output_type": "stream",
     "text": [
      "빨    2\n",
      "노    0\n",
      "초    1\n",
      "초    0\n",
      "빨    3\n",
      "파    2\n",
      "dtype: int64\n",
      "\n",
      "[2 0 1 3]\n",
      "\n",
      "0    2\n",
      "2    2\n",
      "1    1\n",
      "3    1\n",
      "dtype: int64\n"
     ]
    }
   ],
   "source": [
    "ser3 = pd.Series([2, 0, 1, 0, 3, 2], index = [\"빨\", \"노\", \"초\", \"초\", \"빨\", \"파\"])\n",
    "print(ser3)\n",
    "print()\n",
    "\n",
    "# 중복된 값을 제외한시리즈에 포함된 모든 값\n",
    "print(ser3.unique())\n",
    "print()\n",
    "\n",
    "# 고유한 값과 개수를 반환\n",
    "print(ser3.value_counts())"
   ]
  },
  {
   "cell_type": "markdown",
   "id": "094d4464",
   "metadata": {},
   "source": [
    "### 1-4. isin() 함수\n",
    "- 주어진 값 목록을 평가하는데 이는 데이터 구조에 값이 포함되어 있는지 알려준다\n",
    "- 반환된 부울 값은 직렬 또는 데이터 프레임 열의 데이터를 필터링 할 때 매우 유용"
   ]
  },
  {
   "cell_type": "code",
   "execution_count": 49,
   "id": "607b2000",
   "metadata": {},
   "outputs": [
    {
     "name": "stdout",
     "output_type": "stream",
     "text": [
      "빨    False\n",
      "노    False\n",
      "초     True\n",
      "초    False\n",
      "빨     True\n",
      "파    False\n",
      "dtype: bool\n"
     ]
    }
   ],
   "source": [
    "# 값이 포함되어 있는지 여부를 판별\n",
    "# 1과 3의 값이 있는 인덱스에 True를 출력하고 나머지는 False를 출력\n",
    "print(ser3.isin([1,3]))"
   ]
  },
  {
   "cell_type": "markdown",
   "id": "ee16ad08",
   "metadata": {},
   "source": [
    "### 1-5. isnull(), notnull()\n",
    "- NaN은 빈 필드나 숫자로 정의할 수 없는 것이 있음을 나타낸다.\n",
    "- 일반적으로 이러한 NaN값은 문제가 되며 특히 데이터 분석 중에 어떤 방식으로든 관리해야 한다."
   ]
  },
  {
   "cell_type": "code",
   "execution_count": 51,
   "id": "bf1ce665",
   "metadata": {},
   "outputs": [
    {
     "name": "stdout",
     "output_type": "stream",
     "text": [
      "0    1.0\n",
      "1    3.0\n",
      "2    NaN\n",
      "3    7.0\n",
      "4    9.0\n",
      "dtype: float64\n",
      "-------------------------\n",
      "0    False\n",
      "1    False\n",
      "2     True\n",
      "3    False\n",
      "4    False\n",
      "dtype: bool\n",
      "0     True\n",
      "1     True\n",
      "2    False\n",
      "3     True\n",
      "4     True\n",
      "dtype: bool\n"
     ]
    }
   ],
   "source": [
    "ser4 = pd.Series([1, 3, np.NaN, 7,9])\n",
    "print(ser4)\n",
    "print('-------------------------')\n",
    "# NaN 값 존재 여부\n",
    "print(ser4.isnull())\n",
    "# NaN 값이 없으면 True\n",
    "print(ser4.notnull())"
   ]
  },
  {
   "cell_type": "markdown",
   "id": "104537b1",
   "metadata": {},
   "source": [
    "### 1-6. 딕셔너리(dict) 자료형\n",
    "- 시리즈 객체는 라벨 값에 의해 인덱싱이 가능하므로 실질적으로 라벨 값을 키(Key)로 가지는 딕셔너리 자료형과 같은 형태이다.\n",
    "- 딕셔너리 자료형에서 제공하는 in 연산을 사용가능하며, items 메서드를 사용하면 for 루프를 통해 각 원소의 키(Key)와 값(Value)을 접근할 수 있다.\n",
    "- 딕셔너리의 원소는 순서를 가지지 않으므로 시리즈의 데이터도 순서가 보장되지 않는다.\n",
    "- 만약 순서를 정하고 싶다면 인덱스를 리스트로 지정해야한다."
   ]
  },
  {
   "cell_type": "code",
   "execution_count": 53,
   "id": "7826c4af",
   "metadata": {},
   "outputs": [
    {
     "name": "stdout",
     "output_type": "stream",
     "text": [
      "True\n",
      "False\n",
      "서울 : 9904312\n",
      "부산 : 3448737\n",
      "인천 : 2890451\n",
      "대구 : 2466052\n"
     ]
    }
   ],
   "source": [
    "s = pd.Series([9904312, 3448737, 2890451, 2466052],\n",
    "              index=[\"서울\", \"부산\", \"인천\", \"대구\"])\n",
    "\n",
    "print(\"대구\" in s)\n",
    "print(\"전남\" in s)\n",
    "\n",
    "for key, value in s.items():\n",
    "    print(\"%s : %d\" % (key, value))"
   ]
  },
  {
   "cell_type": "code",
   "execution_count": 54,
   "id": "aa4469b6",
   "metadata": {},
   "outputs": [
    {
     "name": "stdout",
     "output_type": "stream",
     "text": [
      "국어    90\n",
      "영어    70\n",
      "수학    80\n",
      "dtype: int64\n",
      "Index(['국어', '영어', '수학'], dtype='object')\n",
      "[90 70 80]\n"
     ]
    }
   ],
   "source": [
    "s = pd.Series({\"국어\":90, \"영어\":70, \"수학\":80})\n",
    "print(s)\n",
    "print(s.index) # Index(['국어', '영어', '수학'], dtype='object')\n",
    "print(s.values)\n"
   ]
  },
  {
   "cell_type": "code",
   "execution_count": 57,
   "id": "dca052b5",
   "metadata": {},
   "outputs": [
    {
     "name": "stdout",
     "output_type": "stream",
     "text": [
      "서울    9631482\n",
      "부산    3393191\n",
      "인천    2632035\n",
      "대전    1490158\n",
      "dtype: int64\n",
      "부산    3393191\n",
      "서울    9631482\n",
      "인천    2632035\n",
      "대전    1490158\n",
      "dtype: int64\n"
     ]
    }
   ],
   "source": [
    "s2 = pd.Series({\"서울\": 9631482, \"부산\": 3393191, \"인천\": \n",
    "2632035, \"대전\": 1490158})\n",
    "print(s2)\n",
    "s2 = pd.Series({\"서울\": 9631482, \"부산\": 3393191, \"인천\": 2632035, \"대전\": 1490158},\n",
    "                # 인덱스 순서에 따라 데이터가 나열된다.\n",
    "                index=[\"부산\", \"서울\", \"인천\", \"대전\"])\n",
    "print(s2)"
   ]
  },
  {
   "cell_type": "code",
   "execution_count": null,
   "id": "7a2b08c0",
   "metadata": {},
   "outputs": [],
   "source": []
  }
 ],
 "metadata": {
  "kernelspec": {
   "display_name": "Python 3",
   "language": "python",
   "name": "python3"
  },
  "language_info": {
   "codemirror_mode": {
    "name": "ipython",
    "version": 3
   },
   "file_extension": ".py",
   "mimetype": "text/x-python",
   "name": "python",
   "nbconvert_exporter": "python",
   "pygments_lexer": "ipython3",
   "version": "3.8.8"
  }
 },
 "nbformat": 4,
 "nbformat_minor": 5
}
