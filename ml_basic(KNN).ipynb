{
  "nbformat": 4,
  "nbformat_minor": 0,
  "metadata": {
    "colab": {
      "provenance": [],
      "authorship_tag": "ABX9TyPdAbTaXBgJVFxPISY25WK3",
      "include_colab_link": true
    },
    "kernelspec": {
      "name": "python3",
      "display_name": "Python 3"
    },
    "language_info": {
      "name": "python"
    }
  },
  "cells": [
    {
      "cell_type": "markdown",
      "metadata": {
        "id": "view-in-github",
        "colab_type": "text"
      },
      "source": [
        "<a href=\"https://colab.research.google.com/github/Jungddaseul/AI_study/blob/main/ml_basic(KNN).ipynb\" target=\"_parent\"><img src=\"https://colab.research.google.com/assets/colab-badge.svg\" alt=\"Open In Colab\"/></a>"
      ]
    },
    {
      "cell_type": "markdown",
      "source": [
        "# 1. KNN - 분류모델(범주형 예측)\n",
        "\n",
        "### IRIS 데이터셋\n",
        " - iris.data,\n",
        " - iris.datget"
      ],
      "metadata": {
        "id": "AezazKEQCUfS"
      }
    },
    {
      "cell_type": "markdown",
      "source": [
        "# 기본 형태\n",
        "#### 01 모델 만들기\n",
        "- m = ML이름()\n",
        "\n",
        "#### 02 모델 학습을 위한 데이터 만들기\n",
        "- train_test_split(예측을 위한 데이터, 예측하고자하는 열(출력))\n",
        "\n",
        "#### 03 모델 학습\n",
        "- m.fit(학습X, 학습y)\n",
        "\n",
        "#### 04 모델 예측\n",
        "- pred = m.predict(테스트X)\n",
        "- pred(모델로 예측한 값)\n"
      ],
      "metadata": {
        "id": "65M31Jd7JCL5"
      }
    },
    {
      "cell_type": "markdown",
      "source": [
        "## 모델 만들기"
      ],
      "metadata": {
        "id": "-J7sSgEQDx3E"
      }
    },
    {
      "cell_type": "code",
      "source": [
        "from sklearn.neighbors import KNeighborsClassifier\n",
        "model = KNeighborsClassifier()\n",
        "model"
      ],
      "metadata": {
        "colab": {
          "base_uri": "https://localhost:8080/",
          "height": 74
        },
        "id": "bUnoycoEFCU9",
        "outputId": "5c5d2917-1199-48c1-b05c-a34aee099077"
      },
      "execution_count": 16,
      "outputs": [
        {
          "output_type": "execute_result",
          "data": {
            "text/plain": [
              "KNeighborsClassifier()"
            ],
            "text/html": [
              "<style>#sk-container-id-3 {color: black;background-color: white;}#sk-container-id-3 pre{padding: 0;}#sk-container-id-3 div.sk-toggleable {background-color: white;}#sk-container-id-3 label.sk-toggleable__label {cursor: pointer;display: block;width: 100%;margin-bottom: 0;padding: 0.3em;box-sizing: border-box;text-align: center;}#sk-container-id-3 label.sk-toggleable__label-arrow:before {content: \"▸\";float: left;margin-right: 0.25em;color: #696969;}#sk-container-id-3 label.sk-toggleable__label-arrow:hover:before {color: black;}#sk-container-id-3 div.sk-estimator:hover label.sk-toggleable__label-arrow:before {color: black;}#sk-container-id-3 div.sk-toggleable__content {max-height: 0;max-width: 0;overflow: hidden;text-align: left;background-color: #f0f8ff;}#sk-container-id-3 div.sk-toggleable__content pre {margin: 0.2em;color: black;border-radius: 0.25em;background-color: #f0f8ff;}#sk-container-id-3 input.sk-toggleable__control:checked~div.sk-toggleable__content {max-height: 200px;max-width: 100%;overflow: auto;}#sk-container-id-3 input.sk-toggleable__control:checked~label.sk-toggleable__label-arrow:before {content: \"▾\";}#sk-container-id-3 div.sk-estimator input.sk-toggleable__control:checked~label.sk-toggleable__label {background-color: #d4ebff;}#sk-container-id-3 div.sk-label input.sk-toggleable__control:checked~label.sk-toggleable__label {background-color: #d4ebff;}#sk-container-id-3 input.sk-hidden--visually {border: 0;clip: rect(1px 1px 1px 1px);clip: rect(1px, 1px, 1px, 1px);height: 1px;margin: -1px;overflow: hidden;padding: 0;position: absolute;width: 1px;}#sk-container-id-3 div.sk-estimator {font-family: monospace;background-color: #f0f8ff;border: 1px dotted black;border-radius: 0.25em;box-sizing: border-box;margin-bottom: 0.5em;}#sk-container-id-3 div.sk-estimator:hover {background-color: #d4ebff;}#sk-container-id-3 div.sk-parallel-item::after {content: \"\";width: 100%;border-bottom: 1px solid gray;flex-grow: 1;}#sk-container-id-3 div.sk-label:hover label.sk-toggleable__label {background-color: #d4ebff;}#sk-container-id-3 div.sk-serial::before {content: \"\";position: absolute;border-left: 1px solid gray;box-sizing: border-box;top: 0;bottom: 0;left: 50%;z-index: 0;}#sk-container-id-3 div.sk-serial {display: flex;flex-direction: column;align-items: center;background-color: white;padding-right: 0.2em;padding-left: 0.2em;position: relative;}#sk-container-id-3 div.sk-item {position: relative;z-index: 1;}#sk-container-id-3 div.sk-parallel {display: flex;align-items: stretch;justify-content: center;background-color: white;position: relative;}#sk-container-id-3 div.sk-item::before, #sk-container-id-3 div.sk-parallel-item::before {content: \"\";position: absolute;border-left: 1px solid gray;box-sizing: border-box;top: 0;bottom: 0;left: 50%;z-index: -1;}#sk-container-id-3 div.sk-parallel-item {display: flex;flex-direction: column;z-index: 1;position: relative;background-color: white;}#sk-container-id-3 div.sk-parallel-item:first-child::after {align-self: flex-end;width: 50%;}#sk-container-id-3 div.sk-parallel-item:last-child::after {align-self: flex-start;width: 50%;}#sk-container-id-3 div.sk-parallel-item:only-child::after {width: 0;}#sk-container-id-3 div.sk-dashed-wrapped {border: 1px dashed gray;margin: 0 0.4em 0.5em 0.4em;box-sizing: border-box;padding-bottom: 0.4em;background-color: white;}#sk-container-id-3 div.sk-label label {font-family: monospace;font-weight: bold;display: inline-block;line-height: 1.2em;}#sk-container-id-3 div.sk-label-container {text-align: center;}#sk-container-id-3 div.sk-container {/* jupyter's `normalize.less` sets `[hidden] { display: none; }` but bootstrap.min.css set `[hidden] { display: none !important; }` so we also need the `!important` here to be able to override the default hidden behavior on the sphinx rendered scikit-learn.org. See: https://github.com/scikit-learn/scikit-learn/issues/21755 */display: inline-block !important;position: relative;}#sk-container-id-3 div.sk-text-repr-fallback {display: none;}</style><div id=\"sk-container-id-3\" class=\"sk-top-container\"><div class=\"sk-text-repr-fallback\"><pre>KNeighborsClassifier()</pre><b>In a Jupyter environment, please rerun this cell to show the HTML representation or trust the notebook. <br />On GitHub, the HTML representation is unable to render, please try loading this page with nbviewer.org.</b></div><div class=\"sk-container\" hidden><div class=\"sk-item\"><div class=\"sk-estimator sk-toggleable\"><input class=\"sk-toggleable__control sk-hidden--visually\" id=\"sk-estimator-id-3\" type=\"checkbox\" checked><label for=\"sk-estimator-id-3\" class=\"sk-toggleable__label sk-toggleable__label-arrow\">KNeighborsClassifier</label><div class=\"sk-toggleable__content\"><pre>KNeighborsClassifier()</pre></div></div></div></div></div>"
            ]
          },
          "metadata": {},
          "execution_count": 16
        }
      ]
    },
    {
      "cell_type": "markdown",
      "source": [
        "## 데이터 불러오기"
      ],
      "metadata": {
        "id": "Bg9_rY4sFH6I"
      }
    },
    {
      "cell_type": "code",
      "source": [
        "from sklearn.datasets import load_iris\n",
        "\n",
        "iris = load_iris()\n",
        "iris.data, iris.target"
      ],
      "metadata": {
        "colab": {
          "base_uri": "https://localhost:8080/"
        },
        "id": "QE_5c4dWFOBF",
        "outputId": "b380b742-a09b-4971-e206-929097032856"
      },
      "execution_count": 17,
      "outputs": [
        {
          "output_type": "execute_result",
          "data": {
            "text/plain": [
              "(array([[5.1, 3.5, 1.4, 0.2],\n",
              "        [4.9, 3. , 1.4, 0.2],\n",
              "        [4.7, 3.2, 1.3, 0.2],\n",
              "        [4.6, 3.1, 1.5, 0.2],\n",
              "        [5. , 3.6, 1.4, 0.2],\n",
              "        [5.4, 3.9, 1.7, 0.4],\n",
              "        [4.6, 3.4, 1.4, 0.3],\n",
              "        [5. , 3.4, 1.5, 0.2],\n",
              "        [4.4, 2.9, 1.4, 0.2],\n",
              "        [4.9, 3.1, 1.5, 0.1],\n",
              "        [5.4, 3.7, 1.5, 0.2],\n",
              "        [4.8, 3.4, 1.6, 0.2],\n",
              "        [4.8, 3. , 1.4, 0.1],\n",
              "        [4.3, 3. , 1.1, 0.1],\n",
              "        [5.8, 4. , 1.2, 0.2],\n",
              "        [5.7, 4.4, 1.5, 0.4],\n",
              "        [5.4, 3.9, 1.3, 0.4],\n",
              "        [5.1, 3.5, 1.4, 0.3],\n",
              "        [5.7, 3.8, 1.7, 0.3],\n",
              "        [5.1, 3.8, 1.5, 0.3],\n",
              "        [5.4, 3.4, 1.7, 0.2],\n",
              "        [5.1, 3.7, 1.5, 0.4],\n",
              "        [4.6, 3.6, 1. , 0.2],\n",
              "        [5.1, 3.3, 1.7, 0.5],\n",
              "        [4.8, 3.4, 1.9, 0.2],\n",
              "        [5. , 3. , 1.6, 0.2],\n",
              "        [5. , 3.4, 1.6, 0.4],\n",
              "        [5.2, 3.5, 1.5, 0.2],\n",
              "        [5.2, 3.4, 1.4, 0.2],\n",
              "        [4.7, 3.2, 1.6, 0.2],\n",
              "        [4.8, 3.1, 1.6, 0.2],\n",
              "        [5.4, 3.4, 1.5, 0.4],\n",
              "        [5.2, 4.1, 1.5, 0.1],\n",
              "        [5.5, 4.2, 1.4, 0.2],\n",
              "        [4.9, 3.1, 1.5, 0.2],\n",
              "        [5. , 3.2, 1.2, 0.2],\n",
              "        [5.5, 3.5, 1.3, 0.2],\n",
              "        [4.9, 3.6, 1.4, 0.1],\n",
              "        [4.4, 3. , 1.3, 0.2],\n",
              "        [5.1, 3.4, 1.5, 0.2],\n",
              "        [5. , 3.5, 1.3, 0.3],\n",
              "        [4.5, 2.3, 1.3, 0.3],\n",
              "        [4.4, 3.2, 1.3, 0.2],\n",
              "        [5. , 3.5, 1.6, 0.6],\n",
              "        [5.1, 3.8, 1.9, 0.4],\n",
              "        [4.8, 3. , 1.4, 0.3],\n",
              "        [5.1, 3.8, 1.6, 0.2],\n",
              "        [4.6, 3.2, 1.4, 0.2],\n",
              "        [5.3, 3.7, 1.5, 0.2],\n",
              "        [5. , 3.3, 1.4, 0.2],\n",
              "        [7. , 3.2, 4.7, 1.4],\n",
              "        [6.4, 3.2, 4.5, 1.5],\n",
              "        [6.9, 3.1, 4.9, 1.5],\n",
              "        [5.5, 2.3, 4. , 1.3],\n",
              "        [6.5, 2.8, 4.6, 1.5],\n",
              "        [5.7, 2.8, 4.5, 1.3],\n",
              "        [6.3, 3.3, 4.7, 1.6],\n",
              "        [4.9, 2.4, 3.3, 1. ],\n",
              "        [6.6, 2.9, 4.6, 1.3],\n",
              "        [5.2, 2.7, 3.9, 1.4],\n",
              "        [5. , 2. , 3.5, 1. ],\n",
              "        [5.9, 3. , 4.2, 1.5],\n",
              "        [6. , 2.2, 4. , 1. ],\n",
              "        [6.1, 2.9, 4.7, 1.4],\n",
              "        [5.6, 2.9, 3.6, 1.3],\n",
              "        [6.7, 3.1, 4.4, 1.4],\n",
              "        [5.6, 3. , 4.5, 1.5],\n",
              "        [5.8, 2.7, 4.1, 1. ],\n",
              "        [6.2, 2.2, 4.5, 1.5],\n",
              "        [5.6, 2.5, 3.9, 1.1],\n",
              "        [5.9, 3.2, 4.8, 1.8],\n",
              "        [6.1, 2.8, 4. , 1.3],\n",
              "        [6.3, 2.5, 4.9, 1.5],\n",
              "        [6.1, 2.8, 4.7, 1.2],\n",
              "        [6.4, 2.9, 4.3, 1.3],\n",
              "        [6.6, 3. , 4.4, 1.4],\n",
              "        [6.8, 2.8, 4.8, 1.4],\n",
              "        [6.7, 3. , 5. , 1.7],\n",
              "        [6. , 2.9, 4.5, 1.5],\n",
              "        [5.7, 2.6, 3.5, 1. ],\n",
              "        [5.5, 2.4, 3.8, 1.1],\n",
              "        [5.5, 2.4, 3.7, 1. ],\n",
              "        [5.8, 2.7, 3.9, 1.2],\n",
              "        [6. , 2.7, 5.1, 1.6],\n",
              "        [5.4, 3. , 4.5, 1.5],\n",
              "        [6. , 3.4, 4.5, 1.6],\n",
              "        [6.7, 3.1, 4.7, 1.5],\n",
              "        [6.3, 2.3, 4.4, 1.3],\n",
              "        [5.6, 3. , 4.1, 1.3],\n",
              "        [5.5, 2.5, 4. , 1.3],\n",
              "        [5.5, 2.6, 4.4, 1.2],\n",
              "        [6.1, 3. , 4.6, 1.4],\n",
              "        [5.8, 2.6, 4. , 1.2],\n",
              "        [5. , 2.3, 3.3, 1. ],\n",
              "        [5.6, 2.7, 4.2, 1.3],\n",
              "        [5.7, 3. , 4.2, 1.2],\n",
              "        [5.7, 2.9, 4.2, 1.3],\n",
              "        [6.2, 2.9, 4.3, 1.3],\n",
              "        [5.1, 2.5, 3. , 1.1],\n",
              "        [5.7, 2.8, 4.1, 1.3],\n",
              "        [6.3, 3.3, 6. , 2.5],\n",
              "        [5.8, 2.7, 5.1, 1.9],\n",
              "        [7.1, 3. , 5.9, 2.1],\n",
              "        [6.3, 2.9, 5.6, 1.8],\n",
              "        [6.5, 3. , 5.8, 2.2],\n",
              "        [7.6, 3. , 6.6, 2.1],\n",
              "        [4.9, 2.5, 4.5, 1.7],\n",
              "        [7.3, 2.9, 6.3, 1.8],\n",
              "        [6.7, 2.5, 5.8, 1.8],\n",
              "        [7.2, 3.6, 6.1, 2.5],\n",
              "        [6.5, 3.2, 5.1, 2. ],\n",
              "        [6.4, 2.7, 5.3, 1.9],\n",
              "        [6.8, 3. , 5.5, 2.1],\n",
              "        [5.7, 2.5, 5. , 2. ],\n",
              "        [5.8, 2.8, 5.1, 2.4],\n",
              "        [6.4, 3.2, 5.3, 2.3],\n",
              "        [6.5, 3. , 5.5, 1.8],\n",
              "        [7.7, 3.8, 6.7, 2.2],\n",
              "        [7.7, 2.6, 6.9, 2.3],\n",
              "        [6. , 2.2, 5. , 1.5],\n",
              "        [6.9, 3.2, 5.7, 2.3],\n",
              "        [5.6, 2.8, 4.9, 2. ],\n",
              "        [7.7, 2.8, 6.7, 2. ],\n",
              "        [6.3, 2.7, 4.9, 1.8],\n",
              "        [6.7, 3.3, 5.7, 2.1],\n",
              "        [7.2, 3.2, 6. , 1.8],\n",
              "        [6.2, 2.8, 4.8, 1.8],\n",
              "        [6.1, 3. , 4.9, 1.8],\n",
              "        [6.4, 2.8, 5.6, 2.1],\n",
              "        [7.2, 3. , 5.8, 1.6],\n",
              "        [7.4, 2.8, 6.1, 1.9],\n",
              "        [7.9, 3.8, 6.4, 2. ],\n",
              "        [6.4, 2.8, 5.6, 2.2],\n",
              "        [6.3, 2.8, 5.1, 1.5],\n",
              "        [6.1, 2.6, 5.6, 1.4],\n",
              "        [7.7, 3. , 6.1, 2.3],\n",
              "        [6.3, 3.4, 5.6, 2.4],\n",
              "        [6.4, 3.1, 5.5, 1.8],\n",
              "        [6. , 3. , 4.8, 1.8],\n",
              "        [6.9, 3.1, 5.4, 2.1],\n",
              "        [6.7, 3.1, 5.6, 2.4],\n",
              "        [6.9, 3.1, 5.1, 2.3],\n",
              "        [5.8, 2.7, 5.1, 1.9],\n",
              "        [6.8, 3.2, 5.9, 2.3],\n",
              "        [6.7, 3.3, 5.7, 2.5],\n",
              "        [6.7, 3. , 5.2, 2.3],\n",
              "        [6.3, 2.5, 5. , 1.9],\n",
              "        [6.5, 3. , 5.2, 2. ],\n",
              "        [6.2, 3.4, 5.4, 2.3],\n",
              "        [5.9, 3. , 5.1, 1.8]]),\n",
              " array([0, 0, 0, 0, 0, 0, 0, 0, 0, 0, 0, 0, 0, 0, 0, 0, 0, 0, 0, 0, 0, 0,\n",
              "        0, 0, 0, 0, 0, 0, 0, 0, 0, 0, 0, 0, 0, 0, 0, 0, 0, 0, 0, 0, 0, 0,\n",
              "        0, 0, 0, 0, 0, 0, 1, 1, 1, 1, 1, 1, 1, 1, 1, 1, 1, 1, 1, 1, 1, 1,\n",
              "        1, 1, 1, 1, 1, 1, 1, 1, 1, 1, 1, 1, 1, 1, 1, 1, 1, 1, 1, 1, 1, 1,\n",
              "        1, 1, 1, 1, 1, 1, 1, 1, 1, 1, 1, 1, 2, 2, 2, 2, 2, 2, 2, 2, 2, 2,\n",
              "        2, 2, 2, 2, 2, 2, 2, 2, 2, 2, 2, 2, 2, 2, 2, 2, 2, 2, 2, 2, 2, 2,\n",
              "        2, 2, 2, 2, 2, 2, 2, 2, 2, 2, 2, 2, 2, 2, 2, 2, 2, 2]))"
            ]
          },
          "metadata": {},
          "execution_count": 17
        }
      ]
    },
    {
      "cell_type": "markdown",
      "source": [
        "## 데이터 나누기"
      ],
      "metadata": {
        "id": "FWKBNUdwG2l7"
      }
    },
    {
      "cell_type": "code",
      "source": [
        "from sklearn.model_selection import train_test_split\n",
        "\n",
        "X_train, X_test, y_train, y_test = train_test_split(iris.data, iris.target)\n",
        "X_train.shape, X_test.shape, y_train.shape, y_test.shape"
      ],
      "metadata": {
        "colab": {
          "base_uri": "https://localhost:8080/"
        },
        "id": "STVRt0JEFWii",
        "outputId": "64a8f8c0-de86-4062-d339-8a3753ab7002"
      },
      "execution_count": 20,
      "outputs": [
        {
          "output_type": "execute_result",
          "data": {
            "text/plain": [
              "((112, 4), (38, 4), (112,), (38,))"
            ]
          },
          "metadata": {},
          "execution_count": 20
        }
      ]
    },
    {
      "cell_type": "markdown",
      "source": [
        "## 준비된 데이터로 모델 학습시키기"
      ],
      "metadata": {
        "id": "GPDuFc4MF1HE"
      }
    },
    {
      "cell_type": "code",
      "source": [
        "# model.fit(X,y)\n",
        "# X : 예측을 위해 사용하는 입력 부분\n",
        "# y : 예측을 하고자 하는 열(출력)\n",
        "model.fit(X_train, y_train)"
      ],
      "metadata": {
        "colab": {
          "base_uri": "https://localhost:8080/",
          "height": 74
        },
        "id": "yIcMcQZ9GoWr",
        "outputId": "a8d41a19-9acd-405a-d392-4bb9309da783"
      },
      "execution_count": 21,
      "outputs": [
        {
          "output_type": "execute_result",
          "data": {
            "text/plain": [
              "KNeighborsClassifier()"
            ],
            "text/html": [
              "<style>#sk-container-id-4 {color: black;background-color: white;}#sk-container-id-4 pre{padding: 0;}#sk-container-id-4 div.sk-toggleable {background-color: white;}#sk-container-id-4 label.sk-toggleable__label {cursor: pointer;display: block;width: 100%;margin-bottom: 0;padding: 0.3em;box-sizing: border-box;text-align: center;}#sk-container-id-4 label.sk-toggleable__label-arrow:before {content: \"▸\";float: left;margin-right: 0.25em;color: #696969;}#sk-container-id-4 label.sk-toggleable__label-arrow:hover:before {color: black;}#sk-container-id-4 div.sk-estimator:hover label.sk-toggleable__label-arrow:before {color: black;}#sk-container-id-4 div.sk-toggleable__content {max-height: 0;max-width: 0;overflow: hidden;text-align: left;background-color: #f0f8ff;}#sk-container-id-4 div.sk-toggleable__content pre {margin: 0.2em;color: black;border-radius: 0.25em;background-color: #f0f8ff;}#sk-container-id-4 input.sk-toggleable__control:checked~div.sk-toggleable__content {max-height: 200px;max-width: 100%;overflow: auto;}#sk-container-id-4 input.sk-toggleable__control:checked~label.sk-toggleable__label-arrow:before {content: \"▾\";}#sk-container-id-4 div.sk-estimator input.sk-toggleable__control:checked~label.sk-toggleable__label {background-color: #d4ebff;}#sk-container-id-4 div.sk-label input.sk-toggleable__control:checked~label.sk-toggleable__label {background-color: #d4ebff;}#sk-container-id-4 input.sk-hidden--visually {border: 0;clip: rect(1px 1px 1px 1px);clip: rect(1px, 1px, 1px, 1px);height: 1px;margin: -1px;overflow: hidden;padding: 0;position: absolute;width: 1px;}#sk-container-id-4 div.sk-estimator {font-family: monospace;background-color: #f0f8ff;border: 1px dotted black;border-radius: 0.25em;box-sizing: border-box;margin-bottom: 0.5em;}#sk-container-id-4 div.sk-estimator:hover {background-color: #d4ebff;}#sk-container-id-4 div.sk-parallel-item::after {content: \"\";width: 100%;border-bottom: 1px solid gray;flex-grow: 1;}#sk-container-id-4 div.sk-label:hover label.sk-toggleable__label {background-color: #d4ebff;}#sk-container-id-4 div.sk-serial::before {content: \"\";position: absolute;border-left: 1px solid gray;box-sizing: border-box;top: 0;bottom: 0;left: 50%;z-index: 0;}#sk-container-id-4 div.sk-serial {display: flex;flex-direction: column;align-items: center;background-color: white;padding-right: 0.2em;padding-left: 0.2em;position: relative;}#sk-container-id-4 div.sk-item {position: relative;z-index: 1;}#sk-container-id-4 div.sk-parallel {display: flex;align-items: stretch;justify-content: center;background-color: white;position: relative;}#sk-container-id-4 div.sk-item::before, #sk-container-id-4 div.sk-parallel-item::before {content: \"\";position: absolute;border-left: 1px solid gray;box-sizing: border-box;top: 0;bottom: 0;left: 50%;z-index: -1;}#sk-container-id-4 div.sk-parallel-item {display: flex;flex-direction: column;z-index: 1;position: relative;background-color: white;}#sk-container-id-4 div.sk-parallel-item:first-child::after {align-self: flex-end;width: 50%;}#sk-container-id-4 div.sk-parallel-item:last-child::after {align-self: flex-start;width: 50%;}#sk-container-id-4 div.sk-parallel-item:only-child::after {width: 0;}#sk-container-id-4 div.sk-dashed-wrapped {border: 1px dashed gray;margin: 0 0.4em 0.5em 0.4em;box-sizing: border-box;padding-bottom: 0.4em;background-color: white;}#sk-container-id-4 div.sk-label label {font-family: monospace;font-weight: bold;display: inline-block;line-height: 1.2em;}#sk-container-id-4 div.sk-label-container {text-align: center;}#sk-container-id-4 div.sk-container {/* jupyter's `normalize.less` sets `[hidden] { display: none; }` but bootstrap.min.css set `[hidden] { display: none !important; }` so we also need the `!important` here to be able to override the default hidden behavior on the sphinx rendered scikit-learn.org. See: https://github.com/scikit-learn/scikit-learn/issues/21755 */display: inline-block !important;position: relative;}#sk-container-id-4 div.sk-text-repr-fallback {display: none;}</style><div id=\"sk-container-id-4\" class=\"sk-top-container\"><div class=\"sk-text-repr-fallback\"><pre>KNeighborsClassifier()</pre><b>In a Jupyter environment, please rerun this cell to show the HTML representation or trust the notebook. <br />On GitHub, the HTML representation is unable to render, please try loading this page with nbviewer.org.</b></div><div class=\"sk-container\" hidden><div class=\"sk-item\"><div class=\"sk-estimator sk-toggleable\"><input class=\"sk-toggleable__control sk-hidden--visually\" id=\"sk-estimator-id-4\" type=\"checkbox\" checked><label for=\"sk-estimator-id-4\" class=\"sk-toggleable__label sk-toggleable__label-arrow\">KNeighborsClassifier</label><div class=\"sk-toggleable__content\"><pre>KNeighborsClassifier()</pre></div></div></div></div></div>"
            ]
          },
          "metadata": {},
          "execution_count": 21
        }
      ]
    },
    {
      "cell_type": "markdown",
      "source": [
        "## 모델 예측"
      ],
      "metadata": {
        "id": "aFdq9RbjG8WF"
      }
    },
    {
      "cell_type": "code",
      "source": [
        "pred = model.predict(X_test)\n",
        "pred"
      ],
      "metadata": {
        "colab": {
          "base_uri": "https://localhost:8080/"
        },
        "id": "47QdSmc_IvXr",
        "outputId": "bcd01358-d07d-4166-9d0c-5f979cf0fbb6"
      },
      "execution_count": 22,
      "outputs": [
        {
          "output_type": "execute_result",
          "data": {
            "text/plain": [
              "array([2, 2, 2, 2, 1, 2, 0, 2, 0, 1, 2, 1, 2, 1, 2, 2, 2, 1, 2, 1, 2, 2,\n",
              "       0, 1, 1, 1, 2, 0, 1, 0, 0, 0, 2, 2, 0, 2, 1, 2])"
            ]
          },
          "metadata": {},
          "execution_count": 22
        }
      ]
    },
    {
      "cell_type": "markdown",
      "source": [
        "## 모델 평가"
      ],
      "metadata": {
        "id": "3WJFWirvIy2R"
      }
    },
    {
      "cell_type": "code",
      "source": [
        "pred == y_test"
      ],
      "metadata": {
        "colab": {
          "base_uri": "https://localhost:8080/"
        },
        "id": "ytQaEEw-I6RS",
        "outputId": "1c5a81c0-b58f-409f-96f8-9c98344ba3a9"
      },
      "execution_count": 23,
      "outputs": [
        {
          "output_type": "execute_result",
          "data": {
            "text/plain": [
              "array([ True,  True,  True,  True,  True,  True,  True,  True,  True,\n",
              "        True,  True,  True,  True,  True,  True,  True,  True,  True,\n",
              "        True,  True, False,  True,  True,  True,  True,  True,  True,\n",
              "        True,  True,  True,  True,  True,  True,  True,  True, False,\n",
              "        True,  True])"
            ]
          },
          "metadata": {},
          "execution_count": 23
        }
      ]
    },
    {
      "cell_type": "code",
      "source": [
        "import numpy as np\n",
        "\n",
        "np.mean(pred == y_test)\n",
        "# sum(pred == y_test) / len(pred)"
      ],
      "metadata": {
        "colab": {
          "base_uri": "https://localhost:8080/"
        },
        "id": "7poA8b5TJgdQ",
        "outputId": "848a827b-86f9-4a4c-da36-d4441f0fd2c6"
      },
      "execution_count": 24,
      "outputs": [
        {
          "output_type": "execute_result",
          "data": {
            "text/plain": [
              "0.9473684210526315"
            ]
          },
          "metadata": {},
          "execution_count": 24
        }
      ]
    },
    {
      "cell_type": "markdown",
      "source": [
        "해당 모델은 94.7%의 정확도를 갖는다"
      ],
      "metadata": {
        "id": "FvRtFSW8JoGR"
      }
    },
    {
      "cell_type": "markdown",
      "source": [
        "# 2. KNN-Regression\n",
        "\n",
        "#### 01 머신러닝 객체 지정\n",
        "- 회귀 모델(LinearRegression)\n",
        "\n",
        "  * 범주형 KNeighborsClassifier\n",
        "\n",
        "  * 연속형 KNeighborsRegression\n",
        "\n",
        "       * LinearRegression\n",
        "\n",
        "\n",
        "#### 02 데이터를 준비한다.\n",
        "- X(예측을 위해 사용하는 입력)\n",
        "- y(예측에 대상이 되는 출력)\n",
        "\n",
        "  * X_train, X_test, y_train, y_test = train_test_split()  \n",
        "\n",
        "#### 03 모델을 학습시킨다.\n",
        "- m.fit(X_train,y_train)\n",
        "\n",
        "#### 04 학습된 모델을 이용해서 예측을 수행한다.\n",
        "- pred = m.predict(X_test)\n",
        "\n",
        "#### 05 평가\n"
      ],
      "metadata": {
        "id": "McBjMdjPJ1lp"
      }
    },
    {
      "cell_type": "code",
      "source": [
        "import seaborn as sns\n",
        "from sklearn.linear_model import LinearRegression\n",
        "from sklearn.model_selection import train_test_split"
      ],
      "metadata": {
        "id": "9aEjJOH0LQQs"
      },
      "execution_count": 25,
      "outputs": []
    },
    {
      "cell_type": "code",
      "source": [
        "# 데이터 로드\n",
        "tips = sns.load_dataset('tips')\n",
        "tips"
      ],
      "metadata": {
        "colab": {
          "base_uri": "https://localhost:8080/",
          "height": 423
        },
        "id": "pXsOsYkUMX1_",
        "outputId": "faee5738-4b05-4618-86b8-de4ab98e3d60"
      },
      "execution_count": 26,
      "outputs": [
        {
          "output_type": "execute_result",
          "data": {
            "text/plain": [
              "     total_bill   tip     sex smoker   day    time  size\n",
              "0         16.99  1.01  Female     No   Sun  Dinner     2\n",
              "1         10.34  1.66    Male     No   Sun  Dinner     3\n",
              "2         21.01  3.50    Male     No   Sun  Dinner     3\n",
              "3         23.68  3.31    Male     No   Sun  Dinner     2\n",
              "4         24.59  3.61  Female     No   Sun  Dinner     4\n",
              "..          ...   ...     ...    ...   ...     ...   ...\n",
              "239       29.03  5.92    Male     No   Sat  Dinner     3\n",
              "240       27.18  2.00  Female    Yes   Sat  Dinner     2\n",
              "241       22.67  2.00    Male    Yes   Sat  Dinner     2\n",
              "242       17.82  1.75    Male     No   Sat  Dinner     2\n",
              "243       18.78  3.00  Female     No  Thur  Dinner     2\n",
              "\n",
              "[244 rows x 7 columns]"
            ],
            "text/html": [
              "\n",
              "  <div id=\"df-b1927534-b3ff-46e1-a1c7-11fe2c7bf0e3\">\n",
              "    <div class=\"colab-df-container\">\n",
              "      <div>\n",
              "<style scoped>\n",
              "    .dataframe tbody tr th:only-of-type {\n",
              "        vertical-align: middle;\n",
              "    }\n",
              "\n",
              "    .dataframe tbody tr th {\n",
              "        vertical-align: top;\n",
              "    }\n",
              "\n",
              "    .dataframe thead th {\n",
              "        text-align: right;\n",
              "    }\n",
              "</style>\n",
              "<table border=\"1\" class=\"dataframe\">\n",
              "  <thead>\n",
              "    <tr style=\"text-align: right;\">\n",
              "      <th></th>\n",
              "      <th>total_bill</th>\n",
              "      <th>tip</th>\n",
              "      <th>sex</th>\n",
              "      <th>smoker</th>\n",
              "      <th>day</th>\n",
              "      <th>time</th>\n",
              "      <th>size</th>\n",
              "    </tr>\n",
              "  </thead>\n",
              "  <tbody>\n",
              "    <tr>\n",
              "      <th>0</th>\n",
              "      <td>16.99</td>\n",
              "      <td>1.01</td>\n",
              "      <td>Female</td>\n",
              "      <td>No</td>\n",
              "      <td>Sun</td>\n",
              "      <td>Dinner</td>\n",
              "      <td>2</td>\n",
              "    </tr>\n",
              "    <tr>\n",
              "      <th>1</th>\n",
              "      <td>10.34</td>\n",
              "      <td>1.66</td>\n",
              "      <td>Male</td>\n",
              "      <td>No</td>\n",
              "      <td>Sun</td>\n",
              "      <td>Dinner</td>\n",
              "      <td>3</td>\n",
              "    </tr>\n",
              "    <tr>\n",
              "      <th>2</th>\n",
              "      <td>21.01</td>\n",
              "      <td>3.50</td>\n",
              "      <td>Male</td>\n",
              "      <td>No</td>\n",
              "      <td>Sun</td>\n",
              "      <td>Dinner</td>\n",
              "      <td>3</td>\n",
              "    </tr>\n",
              "    <tr>\n",
              "      <th>3</th>\n",
              "      <td>23.68</td>\n",
              "      <td>3.31</td>\n",
              "      <td>Male</td>\n",
              "      <td>No</td>\n",
              "      <td>Sun</td>\n",
              "      <td>Dinner</td>\n",
              "      <td>2</td>\n",
              "    </tr>\n",
              "    <tr>\n",
              "      <th>4</th>\n",
              "      <td>24.59</td>\n",
              "      <td>3.61</td>\n",
              "      <td>Female</td>\n",
              "      <td>No</td>\n",
              "      <td>Sun</td>\n",
              "      <td>Dinner</td>\n",
              "      <td>4</td>\n",
              "    </tr>\n",
              "    <tr>\n",
              "      <th>...</th>\n",
              "      <td>...</td>\n",
              "      <td>...</td>\n",
              "      <td>...</td>\n",
              "      <td>...</td>\n",
              "      <td>...</td>\n",
              "      <td>...</td>\n",
              "      <td>...</td>\n",
              "    </tr>\n",
              "    <tr>\n",
              "      <th>239</th>\n",
              "      <td>29.03</td>\n",
              "      <td>5.92</td>\n",
              "      <td>Male</td>\n",
              "      <td>No</td>\n",
              "      <td>Sat</td>\n",
              "      <td>Dinner</td>\n",
              "      <td>3</td>\n",
              "    </tr>\n",
              "    <tr>\n",
              "      <th>240</th>\n",
              "      <td>27.18</td>\n",
              "      <td>2.00</td>\n",
              "      <td>Female</td>\n",
              "      <td>Yes</td>\n",
              "      <td>Sat</td>\n",
              "      <td>Dinner</td>\n",
              "      <td>2</td>\n",
              "    </tr>\n",
              "    <tr>\n",
              "      <th>241</th>\n",
              "      <td>22.67</td>\n",
              "      <td>2.00</td>\n",
              "      <td>Male</td>\n",
              "      <td>Yes</td>\n",
              "      <td>Sat</td>\n",
              "      <td>Dinner</td>\n",
              "      <td>2</td>\n",
              "    </tr>\n",
              "    <tr>\n",
              "      <th>242</th>\n",
              "      <td>17.82</td>\n",
              "      <td>1.75</td>\n",
              "      <td>Male</td>\n",
              "      <td>No</td>\n",
              "      <td>Sat</td>\n",
              "      <td>Dinner</td>\n",
              "      <td>2</td>\n",
              "    </tr>\n",
              "    <tr>\n",
              "      <th>243</th>\n",
              "      <td>18.78</td>\n",
              "      <td>3.00</td>\n",
              "      <td>Female</td>\n",
              "      <td>No</td>\n",
              "      <td>Thur</td>\n",
              "      <td>Dinner</td>\n",
              "      <td>2</td>\n",
              "    </tr>\n",
              "  </tbody>\n",
              "</table>\n",
              "<p>244 rows × 7 columns</p>\n",
              "</div>\n",
              "      <button class=\"colab-df-convert\" onclick=\"convertToInteractive('df-b1927534-b3ff-46e1-a1c7-11fe2c7bf0e3')\"\n",
              "              title=\"Convert this dataframe to an interactive table.\"\n",
              "              style=\"display:none;\">\n",
              "        \n",
              "  <svg xmlns=\"http://www.w3.org/2000/svg\" height=\"24px\"viewBox=\"0 0 24 24\"\n",
              "       width=\"24px\">\n",
              "    <path d=\"M0 0h24v24H0V0z\" fill=\"none\"/>\n",
              "    <path d=\"M18.56 5.44l.94 2.06.94-2.06 2.06-.94-2.06-.94-.94-2.06-.94 2.06-2.06.94zm-11 1L8.5 8.5l.94-2.06 2.06-.94-2.06-.94L8.5 2.5l-.94 2.06-2.06.94zm10 10l.94 2.06.94-2.06 2.06-.94-2.06-.94-.94-2.06-.94 2.06-2.06.94z\"/><path d=\"M17.41 7.96l-1.37-1.37c-.4-.4-.92-.59-1.43-.59-.52 0-1.04.2-1.43.59L10.3 9.45l-7.72 7.72c-.78.78-.78 2.05 0 2.83L4 21.41c.39.39.9.59 1.41.59.51 0 1.02-.2 1.41-.59l7.78-7.78 2.81-2.81c.8-.78.8-2.07 0-2.86zM5.41 20L4 18.59l7.72-7.72 1.47 1.35L5.41 20z\"/>\n",
              "  </svg>\n",
              "      </button>\n",
              "      \n",
              "  <style>\n",
              "    .colab-df-container {\n",
              "      display:flex;\n",
              "      flex-wrap:wrap;\n",
              "      gap: 12px;\n",
              "    }\n",
              "\n",
              "    .colab-df-convert {\n",
              "      background-color: #E8F0FE;\n",
              "      border: none;\n",
              "      border-radius: 50%;\n",
              "      cursor: pointer;\n",
              "      display: none;\n",
              "      fill: #1967D2;\n",
              "      height: 32px;\n",
              "      padding: 0 0 0 0;\n",
              "      width: 32px;\n",
              "    }\n",
              "\n",
              "    .colab-df-convert:hover {\n",
              "      background-color: #E2EBFA;\n",
              "      box-shadow: 0px 1px 2px rgba(60, 64, 67, 0.3), 0px 1px 3px 1px rgba(60, 64, 67, 0.15);\n",
              "      fill: #174EA6;\n",
              "    }\n",
              "\n",
              "    [theme=dark] .colab-df-convert {\n",
              "      background-color: #3B4455;\n",
              "      fill: #D2E3FC;\n",
              "    }\n",
              "\n",
              "    [theme=dark] .colab-df-convert:hover {\n",
              "      background-color: #434B5C;\n",
              "      box-shadow: 0px 1px 3px 1px rgba(0, 0, 0, 0.15);\n",
              "      filter: drop-shadow(0px 1px 2px rgba(0, 0, 0, 0.3));\n",
              "      fill: #FFFFFF;\n",
              "    }\n",
              "  </style>\n",
              "\n",
              "      <script>\n",
              "        const buttonEl =\n",
              "          document.querySelector('#df-b1927534-b3ff-46e1-a1c7-11fe2c7bf0e3 button.colab-df-convert');\n",
              "        buttonEl.style.display =\n",
              "          google.colab.kernel.accessAllowed ? 'block' : 'none';\n",
              "\n",
              "        async function convertToInteractive(key) {\n",
              "          const element = document.querySelector('#df-b1927534-b3ff-46e1-a1c7-11fe2c7bf0e3');\n",
              "          const dataTable =\n",
              "            await google.colab.kernel.invokeFunction('convertToInteractive',\n",
              "                                                     [key], {});\n",
              "          if (!dataTable) return;\n",
              "\n",
              "          const docLinkHtml = 'Like what you see? Visit the ' +\n",
              "            '<a target=\"_blank\" href=https://colab.research.google.com/notebooks/data_table.ipynb>data table notebook</a>'\n",
              "            + ' to learn more about interactive tables.';\n",
              "          element.innerHTML = '';\n",
              "          dataTable['output_type'] = 'display_data';\n",
              "          await google.colab.output.renderOutput(dataTable, element);\n",
              "          const docLink = document.createElement('div');\n",
              "          docLink.innerHTML = docLinkHtml;\n",
              "          element.appendChild(docLink);\n",
              "        }\n",
              "      </script>\n",
              "    </div>\n",
              "  </div>\n",
              "  "
            ]
          },
          "metadata": {},
          "execution_count": 26
        }
      ]
    },
    {
      "cell_type": "code",
      "source": [
        "tips.isnull().sum()"
      ],
      "metadata": {
        "colab": {
          "base_uri": "https://localhost:8080/"
        },
        "id": "_gakgGeQMcDf",
        "outputId": "a1ec3e09-8616-40ec-dd58-fbb68bb36bbd"
      },
      "execution_count": 28,
      "outputs": [
        {
          "output_type": "execute_result",
          "data": {
            "text/plain": [
              "total_bill    0\n",
              "tip           0\n",
              "sex           0\n",
              "smoker        0\n",
              "day           0\n",
              "time          0\n",
              "size          0\n",
              "dtype: int64"
            ]
          },
          "metadata": {},
          "execution_count": 28
        }
      ]
    },
    {
      "cell_type": "code",
      "source": [
        "# 특성 데이터와 타깃 변수 분리\n",
        "X = tips[['total_bill', 'size']]\n",
        "y = tips['tip']"
      ],
      "metadata": {
        "id": "C3-RKkC5MfdG"
      },
      "execution_count": 29,
      "outputs": []
    },
    {
      "cell_type": "code",
      "source": [
        "# 데이터 분할\n",
        "X_train, X_test, y_train, y_test = train_test_split(X, y, random_state=42)\n",
        "X_train.shape, X_test.shape, y_train.shape, y_test.shape"
      ],
      "metadata": {
        "colab": {
          "base_uri": "https://localhost:8080/"
        },
        "id": "D4zMpysNMrQt",
        "outputId": "d8cc5e9f-63a4-4663-80ae-3616a90cb654"
      },
      "execution_count": 30,
      "outputs": [
        {
          "output_type": "execute_result",
          "data": {
            "text/plain": [
              "((183, 2), (61, 2), (183,), (61,))"
            ]
          },
          "metadata": {},
          "execution_count": 30
        }
      ]
    },
    {
      "cell_type": "code",
      "source": [
        "# 모델 초기화 및 학습\n",
        "linear = LinearRegression()\n",
        "linear.fit(X_train, y_train)"
      ],
      "metadata": {
        "colab": {
          "base_uri": "https://localhost:8080/",
          "height": 74
        },
        "id": "BdNWG291M3iZ",
        "outputId": "ac88c706-91e6-4042-ccea-a1a10bfb9cf1"
      },
      "execution_count": 31,
      "outputs": [
        {
          "output_type": "execute_result",
          "data": {
            "text/plain": [
              "LinearRegression()"
            ],
            "text/html": [
              "<style>#sk-container-id-5 {color: black;background-color: white;}#sk-container-id-5 pre{padding: 0;}#sk-container-id-5 div.sk-toggleable {background-color: white;}#sk-container-id-5 label.sk-toggleable__label {cursor: pointer;display: block;width: 100%;margin-bottom: 0;padding: 0.3em;box-sizing: border-box;text-align: center;}#sk-container-id-5 label.sk-toggleable__label-arrow:before {content: \"▸\";float: left;margin-right: 0.25em;color: #696969;}#sk-container-id-5 label.sk-toggleable__label-arrow:hover:before {color: black;}#sk-container-id-5 div.sk-estimator:hover label.sk-toggleable__label-arrow:before {color: black;}#sk-container-id-5 div.sk-toggleable__content {max-height: 0;max-width: 0;overflow: hidden;text-align: left;background-color: #f0f8ff;}#sk-container-id-5 div.sk-toggleable__content pre {margin: 0.2em;color: black;border-radius: 0.25em;background-color: #f0f8ff;}#sk-container-id-5 input.sk-toggleable__control:checked~div.sk-toggleable__content {max-height: 200px;max-width: 100%;overflow: auto;}#sk-container-id-5 input.sk-toggleable__control:checked~label.sk-toggleable__label-arrow:before {content: \"▾\";}#sk-container-id-5 div.sk-estimator input.sk-toggleable__control:checked~label.sk-toggleable__label {background-color: #d4ebff;}#sk-container-id-5 div.sk-label input.sk-toggleable__control:checked~label.sk-toggleable__label {background-color: #d4ebff;}#sk-container-id-5 input.sk-hidden--visually {border: 0;clip: rect(1px 1px 1px 1px);clip: rect(1px, 1px, 1px, 1px);height: 1px;margin: -1px;overflow: hidden;padding: 0;position: absolute;width: 1px;}#sk-container-id-5 div.sk-estimator {font-family: monospace;background-color: #f0f8ff;border: 1px dotted black;border-radius: 0.25em;box-sizing: border-box;margin-bottom: 0.5em;}#sk-container-id-5 div.sk-estimator:hover {background-color: #d4ebff;}#sk-container-id-5 div.sk-parallel-item::after {content: \"\";width: 100%;border-bottom: 1px solid gray;flex-grow: 1;}#sk-container-id-5 div.sk-label:hover label.sk-toggleable__label {background-color: #d4ebff;}#sk-container-id-5 div.sk-serial::before {content: \"\";position: absolute;border-left: 1px solid gray;box-sizing: border-box;top: 0;bottom: 0;left: 50%;z-index: 0;}#sk-container-id-5 div.sk-serial {display: flex;flex-direction: column;align-items: center;background-color: white;padding-right: 0.2em;padding-left: 0.2em;position: relative;}#sk-container-id-5 div.sk-item {position: relative;z-index: 1;}#sk-container-id-5 div.sk-parallel {display: flex;align-items: stretch;justify-content: center;background-color: white;position: relative;}#sk-container-id-5 div.sk-item::before, #sk-container-id-5 div.sk-parallel-item::before {content: \"\";position: absolute;border-left: 1px solid gray;box-sizing: border-box;top: 0;bottom: 0;left: 50%;z-index: -1;}#sk-container-id-5 div.sk-parallel-item {display: flex;flex-direction: column;z-index: 1;position: relative;background-color: white;}#sk-container-id-5 div.sk-parallel-item:first-child::after {align-self: flex-end;width: 50%;}#sk-container-id-5 div.sk-parallel-item:last-child::after {align-self: flex-start;width: 50%;}#sk-container-id-5 div.sk-parallel-item:only-child::after {width: 0;}#sk-container-id-5 div.sk-dashed-wrapped {border: 1px dashed gray;margin: 0 0.4em 0.5em 0.4em;box-sizing: border-box;padding-bottom: 0.4em;background-color: white;}#sk-container-id-5 div.sk-label label {font-family: monospace;font-weight: bold;display: inline-block;line-height: 1.2em;}#sk-container-id-5 div.sk-label-container {text-align: center;}#sk-container-id-5 div.sk-container {/* jupyter's `normalize.less` sets `[hidden] { display: none; }` but bootstrap.min.css set `[hidden] { display: none !important; }` so we also need the `!important` here to be able to override the default hidden behavior on the sphinx rendered scikit-learn.org. See: https://github.com/scikit-learn/scikit-learn/issues/21755 */display: inline-block !important;position: relative;}#sk-container-id-5 div.sk-text-repr-fallback {display: none;}</style><div id=\"sk-container-id-5\" class=\"sk-top-container\"><div class=\"sk-text-repr-fallback\"><pre>LinearRegression()</pre><b>In a Jupyter environment, please rerun this cell to show the HTML representation or trust the notebook. <br />On GitHub, the HTML representation is unable to render, please try loading this page with nbviewer.org.</b></div><div class=\"sk-container\" hidden><div class=\"sk-item\"><div class=\"sk-estimator sk-toggleable\"><input class=\"sk-toggleable__control sk-hidden--visually\" id=\"sk-estimator-id-5\" type=\"checkbox\" checked><label for=\"sk-estimator-id-5\" class=\"sk-toggleable__label sk-toggleable__label-arrow\">LinearRegression</label><div class=\"sk-toggleable__content\"><pre>LinearRegression()</pre></div></div></div></div></div>"
            ]
          },
          "metadata": {},
          "execution_count": 31
        }
      ]
    },
    {
      "cell_type": "code",
      "source": [
        "# 테스트 데이터 예측\n",
        "y_pred = linear.predict(X_test)\n",
        "y_pred"
      ],
      "metadata": {
        "colab": {
          "base_uri": "https://localhost:8080/"
        },
        "id": "UgWdH1oaNFO7",
        "outputId": "69b2c105-e637-45f4-cced-2ccb6d4d9c23"
      },
      "execution_count": 32,
      "outputs": [
        {
          "output_type": "execute_result",
          "data": {
            "text/plain": [
              "array([2.89795206, 1.84870778, 3.83076077, 3.95799945, 2.25036419,\n",
              "       2.71469039, 3.71645756, 2.20098799, 2.41938272, 2.47635526,\n",
              "       2.75267209, 2.03861625, 2.02722174, 2.39089645, 1.73031069,\n",
              "       3.02774366, 3.03439046, 3.06507152, 2.5779563 , 5.65263682,\n",
              "       3.46423743, 3.21860167, 2.37475423, 1.92277208, 3.24234023,\n",
              "       2.12597414, 1.99113913, 3.41640218, 3.06542965, 6.55725496,\n",
              "       4.87270443, 1.75090492, 3.19076924, 2.94258055, 2.86917009,\n",
              "       3.78613228, 2.15825858, 5.59311136, 2.26555687, 3.16857163,\n",
              "       2.01392815, 2.39469462, 3.29011305, 2.23867397, 1.99778593,\n",
              "       1.06563105, 2.02152448, 3.03249137, 1.73381315, 2.27695137,\n",
              "       3.32049841, 3.60631065, 4.51063309, 2.53332781, 2.86661717,\n",
              "       2.25321281, 1.70437734, 2.7080436 , 2.89670682, 2.74762867,\n",
              "       4.57585581])"
            ]
          },
          "metadata": {},
          "execution_count": 32
        }
      ]
    },
    {
      "cell_type": "code",
      "source": [
        "tips.head()"
      ],
      "metadata": {
        "colab": {
          "base_uri": "https://localhost:8080/",
          "height": 206
        },
        "id": "dLQQlcIMNKlQ",
        "outputId": "0f502114-4148-4610-9645-378271a2097f"
      },
      "execution_count": 33,
      "outputs": [
        {
          "output_type": "execute_result",
          "data": {
            "text/plain": [
              "   total_bill   tip     sex smoker  day    time  size\n",
              "0       16.99  1.01  Female     No  Sun  Dinner     2\n",
              "1       10.34  1.66    Male     No  Sun  Dinner     3\n",
              "2       21.01  3.50    Male     No  Sun  Dinner     3\n",
              "3       23.68  3.31    Male     No  Sun  Dinner     2\n",
              "4       24.59  3.61  Female     No  Sun  Dinner     4"
            ],
            "text/html": [
              "\n",
              "  <div id=\"df-3ee01e22-ce82-46c0-887e-a3aaf79d71d9\">\n",
              "    <div class=\"colab-df-container\">\n",
              "      <div>\n",
              "<style scoped>\n",
              "    .dataframe tbody tr th:only-of-type {\n",
              "        vertical-align: middle;\n",
              "    }\n",
              "\n",
              "    .dataframe tbody tr th {\n",
              "        vertical-align: top;\n",
              "    }\n",
              "\n",
              "    .dataframe thead th {\n",
              "        text-align: right;\n",
              "    }\n",
              "</style>\n",
              "<table border=\"1\" class=\"dataframe\">\n",
              "  <thead>\n",
              "    <tr style=\"text-align: right;\">\n",
              "      <th></th>\n",
              "      <th>total_bill</th>\n",
              "      <th>tip</th>\n",
              "      <th>sex</th>\n",
              "      <th>smoker</th>\n",
              "      <th>day</th>\n",
              "      <th>time</th>\n",
              "      <th>size</th>\n",
              "    </tr>\n",
              "  </thead>\n",
              "  <tbody>\n",
              "    <tr>\n",
              "      <th>0</th>\n",
              "      <td>16.99</td>\n",
              "      <td>1.01</td>\n",
              "      <td>Female</td>\n",
              "      <td>No</td>\n",
              "      <td>Sun</td>\n",
              "      <td>Dinner</td>\n",
              "      <td>2</td>\n",
              "    </tr>\n",
              "    <tr>\n",
              "      <th>1</th>\n",
              "      <td>10.34</td>\n",
              "      <td>1.66</td>\n",
              "      <td>Male</td>\n",
              "      <td>No</td>\n",
              "      <td>Sun</td>\n",
              "      <td>Dinner</td>\n",
              "      <td>3</td>\n",
              "    </tr>\n",
              "    <tr>\n",
              "      <th>2</th>\n",
              "      <td>21.01</td>\n",
              "      <td>3.50</td>\n",
              "      <td>Male</td>\n",
              "      <td>No</td>\n",
              "      <td>Sun</td>\n",
              "      <td>Dinner</td>\n",
              "      <td>3</td>\n",
              "    </tr>\n",
              "    <tr>\n",
              "      <th>3</th>\n",
              "      <td>23.68</td>\n",
              "      <td>3.31</td>\n",
              "      <td>Male</td>\n",
              "      <td>No</td>\n",
              "      <td>Sun</td>\n",
              "      <td>Dinner</td>\n",
              "      <td>2</td>\n",
              "    </tr>\n",
              "    <tr>\n",
              "      <th>4</th>\n",
              "      <td>24.59</td>\n",
              "      <td>3.61</td>\n",
              "      <td>Female</td>\n",
              "      <td>No</td>\n",
              "      <td>Sun</td>\n",
              "      <td>Dinner</td>\n",
              "      <td>4</td>\n",
              "    </tr>\n",
              "  </tbody>\n",
              "</table>\n",
              "</div>\n",
              "      <button class=\"colab-df-convert\" onclick=\"convertToInteractive('df-3ee01e22-ce82-46c0-887e-a3aaf79d71d9')\"\n",
              "              title=\"Convert this dataframe to an interactive table.\"\n",
              "              style=\"display:none;\">\n",
              "        \n",
              "  <svg xmlns=\"http://www.w3.org/2000/svg\" height=\"24px\"viewBox=\"0 0 24 24\"\n",
              "       width=\"24px\">\n",
              "    <path d=\"M0 0h24v24H0V0z\" fill=\"none\"/>\n",
              "    <path d=\"M18.56 5.44l.94 2.06.94-2.06 2.06-.94-2.06-.94-.94-2.06-.94 2.06-2.06.94zm-11 1L8.5 8.5l.94-2.06 2.06-.94-2.06-.94L8.5 2.5l-.94 2.06-2.06.94zm10 10l.94 2.06.94-2.06 2.06-.94-2.06-.94-.94-2.06-.94 2.06-2.06.94z\"/><path d=\"M17.41 7.96l-1.37-1.37c-.4-.4-.92-.59-1.43-.59-.52 0-1.04.2-1.43.59L10.3 9.45l-7.72 7.72c-.78.78-.78 2.05 0 2.83L4 21.41c.39.39.9.59 1.41.59.51 0 1.02-.2 1.41-.59l7.78-7.78 2.81-2.81c.8-.78.8-2.07 0-2.86zM5.41 20L4 18.59l7.72-7.72 1.47 1.35L5.41 20z\"/>\n",
              "  </svg>\n",
              "      </button>\n",
              "      \n",
              "  <style>\n",
              "    .colab-df-container {\n",
              "      display:flex;\n",
              "      flex-wrap:wrap;\n",
              "      gap: 12px;\n",
              "    }\n",
              "\n",
              "    .colab-df-convert {\n",
              "      background-color: #E8F0FE;\n",
              "      border: none;\n",
              "      border-radius: 50%;\n",
              "      cursor: pointer;\n",
              "      display: none;\n",
              "      fill: #1967D2;\n",
              "      height: 32px;\n",
              "      padding: 0 0 0 0;\n",
              "      width: 32px;\n",
              "    }\n",
              "\n",
              "    .colab-df-convert:hover {\n",
              "      background-color: #E2EBFA;\n",
              "      box-shadow: 0px 1px 2px rgba(60, 64, 67, 0.3), 0px 1px 3px 1px rgba(60, 64, 67, 0.15);\n",
              "      fill: #174EA6;\n",
              "    }\n",
              "\n",
              "    [theme=dark] .colab-df-convert {\n",
              "      background-color: #3B4455;\n",
              "      fill: #D2E3FC;\n",
              "    }\n",
              "\n",
              "    [theme=dark] .colab-df-convert:hover {\n",
              "      background-color: #434B5C;\n",
              "      box-shadow: 0px 1px 3px 1px rgba(0, 0, 0, 0.15);\n",
              "      filter: drop-shadow(0px 1px 2px rgba(0, 0, 0, 0.3));\n",
              "      fill: #FFFFFF;\n",
              "    }\n",
              "  </style>\n",
              "\n",
              "      <script>\n",
              "        const buttonEl =\n",
              "          document.querySelector('#df-3ee01e22-ce82-46c0-887e-a3aaf79d71d9 button.colab-df-convert');\n",
              "        buttonEl.style.display =\n",
              "          google.colab.kernel.accessAllowed ? 'block' : 'none';\n",
              "\n",
              "        async function convertToInteractive(key) {\n",
              "          const element = document.querySelector('#df-3ee01e22-ce82-46c0-887e-a3aaf79d71d9');\n",
              "          const dataTable =\n",
              "            await google.colab.kernel.invokeFunction('convertToInteractive',\n",
              "                                                     [key], {});\n",
              "          if (!dataTable) return;\n",
              "\n",
              "          const docLinkHtml = 'Like what you see? Visit the ' +\n",
              "            '<a target=\"_blank\" href=https://colab.research.google.com/notebooks/data_table.ipynb>data table notebook</a>'\n",
              "            + ' to learn more about interactive tables.';\n",
              "          element.innerHTML = '';\n",
              "          dataTable['output_type'] = 'display_data';\n",
              "          await google.colab.output.renderOutput(dataTable, element);\n",
              "          const docLink = document.createElement('div');\n",
              "          docLink.innerHTML = docLinkHtml;\n",
              "          element.appendChild(docLink);\n",
              "        }\n",
              "      </script>\n",
              "    </div>\n",
              "  </div>\n",
              "  "
            ]
          },
          "metadata": {},
          "execution_count": 33
        }
      ]
    },
    {
      "cell_type": "code",
      "source": [
        "# MSE 구하기\n",
        "sum( (y_pred - y_test) ** 2 ) / len(y_pred)"
      ],
      "metadata": {
        "colab": {
          "base_uri": "https://localhost:8080/"
        },
        "id": "5WGMjl0NNVDc",
        "outputId": "e33b3606-f35b-4a2d-d726-8680c13e2c74"
      },
      "execution_count": 35,
      "outputs": [
        {
          "output_type": "execute_result",
          "data": {
            "text/plain": [
              "0.7743095126500432"
            ]
          },
          "metadata": {},
          "execution_count": 35
        }
      ]
    },
    {
      "cell_type": "code",
      "source": [
        "# 평가지표 계산(라이브러리 이용) \n",
        "from sklearn.metrics import mean_squared_error\n",
        "mse = mean_squared_error(y_test, y_pred)\n",
        "mse"
      ],
      "metadata": {
        "colab": {
          "base_uri": "https://localhost:8080/"
        },
        "id": "J1oSuHAGN_Hj",
        "outputId": "b33c1a0e-e8c3-435f-af10-b08c85a04009"
      },
      "execution_count": 38,
      "outputs": [
        {
          "output_type": "execute_result",
          "data": {
            "text/plain": [
              "0.7743095126500432"
            ]
          },
          "metadata": {},
          "execution_count": 38
        }
      ]
    },
    {
      "cell_type": "markdown",
      "source": [
        "### 결과해석\n",
        "- mse는 예측값과 실제값 사이의 오차 제곱의 평균을 나타내며, 값이 작을수록 모델의 예측이 정확함을 의미\n",
        "- 따라서 mse 값이 작으면 좋은 성능을 갖는 회귀 모델이라고 평가할 수 있음"
      ],
      "metadata": {
        "id": "0FtSZUnpOYAH"
      }
    },
    {
      "cell_type": "markdown",
      "source": [
        "## 다시 학습하기"
      ],
      "metadata": {
        "id": "qG8duqfnOyYW"
      }
    },
    {
      "cell_type": "code",
      "source": [
        "tips.head()"
      ],
      "metadata": {
        "colab": {
          "base_uri": "https://localhost:8080/",
          "height": 206
        },
        "id": "-WUssY8_P1X8",
        "outputId": "e18a053b-477a-4cfe-93bd-6125d6d9d6b4"
      },
      "execution_count": 48,
      "outputs": [
        {
          "output_type": "execute_result",
          "data": {
            "text/plain": [
              "   total_bill   tip     sex smoker  day    time  size\n",
              "0       16.99  1.01  Female     No  Sun  Dinner     2\n",
              "1       10.34  1.66    Male     No  Sun  Dinner     3\n",
              "2       21.01  3.50    Male     No  Sun  Dinner     3\n",
              "3       23.68  3.31    Male     No  Sun  Dinner     2\n",
              "4       24.59  3.61  Female     No  Sun  Dinner     4"
            ],
            "text/html": [
              "\n",
              "  <div id=\"df-e0d8fd56-62a3-4f8a-915b-c6515029c533\">\n",
              "    <div class=\"colab-df-container\">\n",
              "      <div>\n",
              "<style scoped>\n",
              "    .dataframe tbody tr th:only-of-type {\n",
              "        vertical-align: middle;\n",
              "    }\n",
              "\n",
              "    .dataframe tbody tr th {\n",
              "        vertical-align: top;\n",
              "    }\n",
              "\n",
              "    .dataframe thead th {\n",
              "        text-align: right;\n",
              "    }\n",
              "</style>\n",
              "<table border=\"1\" class=\"dataframe\">\n",
              "  <thead>\n",
              "    <tr style=\"text-align: right;\">\n",
              "      <th></th>\n",
              "      <th>total_bill</th>\n",
              "      <th>tip</th>\n",
              "      <th>sex</th>\n",
              "      <th>smoker</th>\n",
              "      <th>day</th>\n",
              "      <th>time</th>\n",
              "      <th>size</th>\n",
              "    </tr>\n",
              "  </thead>\n",
              "  <tbody>\n",
              "    <tr>\n",
              "      <th>0</th>\n",
              "      <td>16.99</td>\n",
              "      <td>1.01</td>\n",
              "      <td>Female</td>\n",
              "      <td>No</td>\n",
              "      <td>Sun</td>\n",
              "      <td>Dinner</td>\n",
              "      <td>2</td>\n",
              "    </tr>\n",
              "    <tr>\n",
              "      <th>1</th>\n",
              "      <td>10.34</td>\n",
              "      <td>1.66</td>\n",
              "      <td>Male</td>\n",
              "      <td>No</td>\n",
              "      <td>Sun</td>\n",
              "      <td>Dinner</td>\n",
              "      <td>3</td>\n",
              "    </tr>\n",
              "    <tr>\n",
              "      <th>2</th>\n",
              "      <td>21.01</td>\n",
              "      <td>3.50</td>\n",
              "      <td>Male</td>\n",
              "      <td>No</td>\n",
              "      <td>Sun</td>\n",
              "      <td>Dinner</td>\n",
              "      <td>3</td>\n",
              "    </tr>\n",
              "    <tr>\n",
              "      <th>3</th>\n",
              "      <td>23.68</td>\n",
              "      <td>3.31</td>\n",
              "      <td>Male</td>\n",
              "      <td>No</td>\n",
              "      <td>Sun</td>\n",
              "      <td>Dinner</td>\n",
              "      <td>2</td>\n",
              "    </tr>\n",
              "    <tr>\n",
              "      <th>4</th>\n",
              "      <td>24.59</td>\n",
              "      <td>3.61</td>\n",
              "      <td>Female</td>\n",
              "      <td>No</td>\n",
              "      <td>Sun</td>\n",
              "      <td>Dinner</td>\n",
              "      <td>4</td>\n",
              "    </tr>\n",
              "  </tbody>\n",
              "</table>\n",
              "</div>\n",
              "      <button class=\"colab-df-convert\" onclick=\"convertToInteractive('df-e0d8fd56-62a3-4f8a-915b-c6515029c533')\"\n",
              "              title=\"Convert this dataframe to an interactive table.\"\n",
              "              style=\"display:none;\">\n",
              "        \n",
              "  <svg xmlns=\"http://www.w3.org/2000/svg\" height=\"24px\"viewBox=\"0 0 24 24\"\n",
              "       width=\"24px\">\n",
              "    <path d=\"M0 0h24v24H0V0z\" fill=\"none\"/>\n",
              "    <path d=\"M18.56 5.44l.94 2.06.94-2.06 2.06-.94-2.06-.94-.94-2.06-.94 2.06-2.06.94zm-11 1L8.5 8.5l.94-2.06 2.06-.94-2.06-.94L8.5 2.5l-.94 2.06-2.06.94zm10 10l.94 2.06.94-2.06 2.06-.94-2.06-.94-.94-2.06-.94 2.06-2.06.94z\"/><path d=\"M17.41 7.96l-1.37-1.37c-.4-.4-.92-.59-1.43-.59-.52 0-1.04.2-1.43.59L10.3 9.45l-7.72 7.72c-.78.78-.78 2.05 0 2.83L4 21.41c.39.39.9.59 1.41.59.51 0 1.02-.2 1.41-.59l7.78-7.78 2.81-2.81c.8-.78.8-2.07 0-2.86zM5.41 20L4 18.59l7.72-7.72 1.47 1.35L5.41 20z\"/>\n",
              "  </svg>\n",
              "      </button>\n",
              "      \n",
              "  <style>\n",
              "    .colab-df-container {\n",
              "      display:flex;\n",
              "      flex-wrap:wrap;\n",
              "      gap: 12px;\n",
              "    }\n",
              "\n",
              "    .colab-df-convert {\n",
              "      background-color: #E8F0FE;\n",
              "      border: none;\n",
              "      border-radius: 50%;\n",
              "      cursor: pointer;\n",
              "      display: none;\n",
              "      fill: #1967D2;\n",
              "      height: 32px;\n",
              "      padding: 0 0 0 0;\n",
              "      width: 32px;\n",
              "    }\n",
              "\n",
              "    .colab-df-convert:hover {\n",
              "      background-color: #E2EBFA;\n",
              "      box-shadow: 0px 1px 2px rgba(60, 64, 67, 0.3), 0px 1px 3px 1px rgba(60, 64, 67, 0.15);\n",
              "      fill: #174EA6;\n",
              "    }\n",
              "\n",
              "    [theme=dark] .colab-df-convert {\n",
              "      background-color: #3B4455;\n",
              "      fill: #D2E3FC;\n",
              "    }\n",
              "\n",
              "    [theme=dark] .colab-df-convert:hover {\n",
              "      background-color: #434B5C;\n",
              "      box-shadow: 0px 1px 3px 1px rgba(0, 0, 0, 0.15);\n",
              "      filter: drop-shadow(0px 1px 2px rgba(0, 0, 0, 0.3));\n",
              "      fill: #FFFFFF;\n",
              "    }\n",
              "  </style>\n",
              "\n",
              "      <script>\n",
              "        const buttonEl =\n",
              "          document.querySelector('#df-e0d8fd56-62a3-4f8a-915b-c6515029c533 button.colab-df-convert');\n",
              "        buttonEl.style.display =\n",
              "          google.colab.kernel.accessAllowed ? 'block' : 'none';\n",
              "\n",
              "        async function convertToInteractive(key) {\n",
              "          const element = document.querySelector('#df-e0d8fd56-62a3-4f8a-915b-c6515029c533');\n",
              "          const dataTable =\n",
              "            await google.colab.kernel.invokeFunction('convertToInteractive',\n",
              "                                                     [key], {});\n",
              "          if (!dataTable) return;\n",
              "\n",
              "          const docLinkHtml = 'Like what you see? Visit the ' +\n",
              "            '<a target=\"_blank\" href=https://colab.research.google.com/notebooks/data_table.ipynb>data table notebook</a>'\n",
              "            + ' to learn more about interactive tables.';\n",
              "          element.innerHTML = '';\n",
              "          dataTable['output_type'] = 'display_data';\n",
              "          await google.colab.output.renderOutput(dataTable, element);\n",
              "          const docLink = document.createElement('div');\n",
              "          docLink.innerHTML = docLinkHtml;\n",
              "          element.appendChild(docLink);\n",
              "        }\n",
              "      </script>\n",
              "    </div>\n",
              "  </div>\n",
              "  "
            ]
          },
          "metadata": {},
          "execution_count": 48
        }
      ]
    },
    {
      "cell_type": "code",
      "source": [
        "tips.info()"
      ],
      "metadata": {
        "colab": {
          "base_uri": "https://localhost:8080/"
        },
        "id": "TFHkTSQyPria",
        "outputId": "e4342c26-1a69-4e0c-982b-ec33cbcf2f50"
      },
      "execution_count": 47,
      "outputs": [
        {
          "output_type": "stream",
          "name": "stdout",
          "text": [
            "<class 'pandas.core.frame.DataFrame'>\n",
            "RangeIndex: 244 entries, 0 to 243\n",
            "Data columns (total 7 columns):\n",
            " #   Column      Non-Null Count  Dtype   \n",
            "---  ------      --------------  -----   \n",
            " 0   total_bill  244 non-null    float64 \n",
            " 1   tip         244 non-null    float64 \n",
            " 2   sex         244 non-null    category\n",
            " 3   smoker      244 non-null    category\n",
            " 4   day         244 non-null    category\n",
            " 5   time        244 non-null    category\n",
            " 6   size        244 non-null    int64   \n",
            "dtypes: category(4), float64(2), int64(1)\n",
            "memory usage: 7.4 KB\n"
          ]
        }
      ]
    },
    {
      "cell_type": "code",
      "source": [
        "import pandas as pd\n",
        "from sklearn.preprocessing import LabelEncoder\n",
        "\n",
        "# 범주형 변수 선택\n",
        "categorical_cols = ['sex', 'smoker', 'day', 'time']\n",
        "\n",
        "# LabelEncoder 객체 생성\n",
        "label_encoder = LabelEncoder()\n"
      ],
      "metadata": {
        "id": "H16q683BQK9u"
      },
      "execution_count": 49,
      "outputs": []
    },
    {
      "cell_type": "code",
      "source": [
        "# 범주형 변수에 라벨 인고딩 적용\n",
        "for col in categorical_cols:\n",
        "    tips[col] = label_encoder.fit_transform(tips[col])\n",
        "\n",
        "print(tips.head())"
      ],
      "metadata": {
        "colab": {
          "base_uri": "https://localhost:8080/"
        },
        "id": "9gLW9uKQQ4rE",
        "outputId": "534366cc-6b1e-403c-bec2-1ee9d52f30d3"
      },
      "execution_count": 50,
      "outputs": [
        {
          "output_type": "stream",
          "name": "stdout",
          "text": [
            "   total_bill   tip  sex  smoker  day  time  size\n",
            "0       16.99  1.01    0       0    2     0     2\n",
            "1       10.34  1.66    1       0    2     0     3\n",
            "2       21.01  3.50    1       0    2     0     3\n",
            "3       23.68  3.31    1       0    2     0     2\n",
            "4       24.59  3.61    0       0    2     0     4\n"
          ]
        }
      ]
    },
    {
      "cell_type": "code",
      "source": [
        "# 특성 데이터와 타깃 변수 분리\n",
        "X = tips.drop('tip', axis=1)\n",
        "y = tips['tip']"
      ],
      "metadata": {
        "id": "SS5n5t5qO-oq"
      },
      "execution_count": 51,
      "outputs": []
    },
    {
      "cell_type": "code",
      "source": [
        "X_train, X_test, y_train, y_test = train_test_split(X, y, test_size = 0.2, random_state=42)\n",
        "X_train.shape, y_train.shape, X_test.shape, y_test.shape"
      ],
      "metadata": {
        "colab": {
          "base_uri": "https://localhost:8080/"
        },
        "id": "PeTUWy5ePD0f",
        "outputId": "7fc3ffc1-ac78-46c0-f189-64287074eee8"
      },
      "execution_count": 52,
      "outputs": [
        {
          "output_type": "execute_result",
          "data": {
            "text/plain": [
              "((195, 6), (195,), (49, 6), (49,))"
            ]
          },
          "metadata": {},
          "execution_count": 52
        }
      ]
    },
    {
      "cell_type": "code",
      "source": [
        "model = LinearRegression()\n",
        "model"
      ],
      "metadata": {
        "colab": {
          "base_uri": "https://localhost:8080/",
          "height": 74
        },
        "id": "8Onc2ebjPQbn",
        "outputId": "1c8caac3-b8fe-43d7-d426-0bfab348aa8e"
      },
      "execution_count": 53,
      "outputs": [
        {
          "output_type": "execute_result",
          "data": {
            "text/plain": [
              "LinearRegression()"
            ],
            "text/html": [
              "<style>#sk-container-id-7 {color: black;background-color: white;}#sk-container-id-7 pre{padding: 0;}#sk-container-id-7 div.sk-toggleable {background-color: white;}#sk-container-id-7 label.sk-toggleable__label {cursor: pointer;display: block;width: 100%;margin-bottom: 0;padding: 0.3em;box-sizing: border-box;text-align: center;}#sk-container-id-7 label.sk-toggleable__label-arrow:before {content: \"▸\";float: left;margin-right: 0.25em;color: #696969;}#sk-container-id-7 label.sk-toggleable__label-arrow:hover:before {color: black;}#sk-container-id-7 div.sk-estimator:hover label.sk-toggleable__label-arrow:before {color: black;}#sk-container-id-7 div.sk-toggleable__content {max-height: 0;max-width: 0;overflow: hidden;text-align: left;background-color: #f0f8ff;}#sk-container-id-7 div.sk-toggleable__content pre {margin: 0.2em;color: black;border-radius: 0.25em;background-color: #f0f8ff;}#sk-container-id-7 input.sk-toggleable__control:checked~div.sk-toggleable__content {max-height: 200px;max-width: 100%;overflow: auto;}#sk-container-id-7 input.sk-toggleable__control:checked~label.sk-toggleable__label-arrow:before {content: \"▾\";}#sk-container-id-7 div.sk-estimator input.sk-toggleable__control:checked~label.sk-toggleable__label {background-color: #d4ebff;}#sk-container-id-7 div.sk-label input.sk-toggleable__control:checked~label.sk-toggleable__label {background-color: #d4ebff;}#sk-container-id-7 input.sk-hidden--visually {border: 0;clip: rect(1px 1px 1px 1px);clip: rect(1px, 1px, 1px, 1px);height: 1px;margin: -1px;overflow: hidden;padding: 0;position: absolute;width: 1px;}#sk-container-id-7 div.sk-estimator {font-family: monospace;background-color: #f0f8ff;border: 1px dotted black;border-radius: 0.25em;box-sizing: border-box;margin-bottom: 0.5em;}#sk-container-id-7 div.sk-estimator:hover {background-color: #d4ebff;}#sk-container-id-7 div.sk-parallel-item::after {content: \"\";width: 100%;border-bottom: 1px solid gray;flex-grow: 1;}#sk-container-id-7 div.sk-label:hover label.sk-toggleable__label {background-color: #d4ebff;}#sk-container-id-7 div.sk-serial::before {content: \"\";position: absolute;border-left: 1px solid gray;box-sizing: border-box;top: 0;bottom: 0;left: 50%;z-index: 0;}#sk-container-id-7 div.sk-serial {display: flex;flex-direction: column;align-items: center;background-color: white;padding-right: 0.2em;padding-left: 0.2em;position: relative;}#sk-container-id-7 div.sk-item {position: relative;z-index: 1;}#sk-container-id-7 div.sk-parallel {display: flex;align-items: stretch;justify-content: center;background-color: white;position: relative;}#sk-container-id-7 div.sk-item::before, #sk-container-id-7 div.sk-parallel-item::before {content: \"\";position: absolute;border-left: 1px solid gray;box-sizing: border-box;top: 0;bottom: 0;left: 50%;z-index: -1;}#sk-container-id-7 div.sk-parallel-item {display: flex;flex-direction: column;z-index: 1;position: relative;background-color: white;}#sk-container-id-7 div.sk-parallel-item:first-child::after {align-self: flex-end;width: 50%;}#sk-container-id-7 div.sk-parallel-item:last-child::after {align-self: flex-start;width: 50%;}#sk-container-id-7 div.sk-parallel-item:only-child::after {width: 0;}#sk-container-id-7 div.sk-dashed-wrapped {border: 1px dashed gray;margin: 0 0.4em 0.5em 0.4em;box-sizing: border-box;padding-bottom: 0.4em;background-color: white;}#sk-container-id-7 div.sk-label label {font-family: monospace;font-weight: bold;display: inline-block;line-height: 1.2em;}#sk-container-id-7 div.sk-label-container {text-align: center;}#sk-container-id-7 div.sk-container {/* jupyter's `normalize.less` sets `[hidden] { display: none; }` but bootstrap.min.css set `[hidden] { display: none !important; }` so we also need the `!important` here to be able to override the default hidden behavior on the sphinx rendered scikit-learn.org. See: https://github.com/scikit-learn/scikit-learn/issues/21755 */display: inline-block !important;position: relative;}#sk-container-id-7 div.sk-text-repr-fallback {display: none;}</style><div id=\"sk-container-id-7\" class=\"sk-top-container\"><div class=\"sk-text-repr-fallback\"><pre>LinearRegression()</pre><b>In a Jupyter environment, please rerun this cell to show the HTML representation or trust the notebook. <br />On GitHub, the HTML representation is unable to render, please try loading this page with nbviewer.org.</b></div><div class=\"sk-container\" hidden><div class=\"sk-item\"><div class=\"sk-estimator sk-toggleable\"><input class=\"sk-toggleable__control sk-hidden--visually\" id=\"sk-estimator-id-7\" type=\"checkbox\" checked><label for=\"sk-estimator-id-7\" class=\"sk-toggleable__label sk-toggleable__label-arrow\">LinearRegression</label><div class=\"sk-toggleable__content\"><pre>LinearRegression()</pre></div></div></div></div></div>"
            ]
          },
          "metadata": {},
          "execution_count": 53
        }
      ]
    },
    {
      "cell_type": "code",
      "source": [
        "model.fit(X_train, y_train)"
      ],
      "metadata": {
        "colab": {
          "base_uri": "https://localhost:8080/",
          "height": 74
        },
        "id": "JWRD-T7LPUfW",
        "outputId": "8a5f9f19-6c73-4c74-8d43-474183ba9625"
      },
      "execution_count": 54,
      "outputs": [
        {
          "output_type": "execute_result",
          "data": {
            "text/plain": [
              "LinearRegression()"
            ],
            "text/html": [
              "<style>#sk-container-id-8 {color: black;background-color: white;}#sk-container-id-8 pre{padding: 0;}#sk-container-id-8 div.sk-toggleable {background-color: white;}#sk-container-id-8 label.sk-toggleable__label {cursor: pointer;display: block;width: 100%;margin-bottom: 0;padding: 0.3em;box-sizing: border-box;text-align: center;}#sk-container-id-8 label.sk-toggleable__label-arrow:before {content: \"▸\";float: left;margin-right: 0.25em;color: #696969;}#sk-container-id-8 label.sk-toggleable__label-arrow:hover:before {color: black;}#sk-container-id-8 div.sk-estimator:hover label.sk-toggleable__label-arrow:before {color: black;}#sk-container-id-8 div.sk-toggleable__content {max-height: 0;max-width: 0;overflow: hidden;text-align: left;background-color: #f0f8ff;}#sk-container-id-8 div.sk-toggleable__content pre {margin: 0.2em;color: black;border-radius: 0.25em;background-color: #f0f8ff;}#sk-container-id-8 input.sk-toggleable__control:checked~div.sk-toggleable__content {max-height: 200px;max-width: 100%;overflow: auto;}#sk-container-id-8 input.sk-toggleable__control:checked~label.sk-toggleable__label-arrow:before {content: \"▾\";}#sk-container-id-8 div.sk-estimator input.sk-toggleable__control:checked~label.sk-toggleable__label {background-color: #d4ebff;}#sk-container-id-8 div.sk-label input.sk-toggleable__control:checked~label.sk-toggleable__label {background-color: #d4ebff;}#sk-container-id-8 input.sk-hidden--visually {border: 0;clip: rect(1px 1px 1px 1px);clip: rect(1px, 1px, 1px, 1px);height: 1px;margin: -1px;overflow: hidden;padding: 0;position: absolute;width: 1px;}#sk-container-id-8 div.sk-estimator {font-family: monospace;background-color: #f0f8ff;border: 1px dotted black;border-radius: 0.25em;box-sizing: border-box;margin-bottom: 0.5em;}#sk-container-id-8 div.sk-estimator:hover {background-color: #d4ebff;}#sk-container-id-8 div.sk-parallel-item::after {content: \"\";width: 100%;border-bottom: 1px solid gray;flex-grow: 1;}#sk-container-id-8 div.sk-label:hover label.sk-toggleable__label {background-color: #d4ebff;}#sk-container-id-8 div.sk-serial::before {content: \"\";position: absolute;border-left: 1px solid gray;box-sizing: border-box;top: 0;bottom: 0;left: 50%;z-index: 0;}#sk-container-id-8 div.sk-serial {display: flex;flex-direction: column;align-items: center;background-color: white;padding-right: 0.2em;padding-left: 0.2em;position: relative;}#sk-container-id-8 div.sk-item {position: relative;z-index: 1;}#sk-container-id-8 div.sk-parallel {display: flex;align-items: stretch;justify-content: center;background-color: white;position: relative;}#sk-container-id-8 div.sk-item::before, #sk-container-id-8 div.sk-parallel-item::before {content: \"\";position: absolute;border-left: 1px solid gray;box-sizing: border-box;top: 0;bottom: 0;left: 50%;z-index: -1;}#sk-container-id-8 div.sk-parallel-item {display: flex;flex-direction: column;z-index: 1;position: relative;background-color: white;}#sk-container-id-8 div.sk-parallel-item:first-child::after {align-self: flex-end;width: 50%;}#sk-container-id-8 div.sk-parallel-item:last-child::after {align-self: flex-start;width: 50%;}#sk-container-id-8 div.sk-parallel-item:only-child::after {width: 0;}#sk-container-id-8 div.sk-dashed-wrapped {border: 1px dashed gray;margin: 0 0.4em 0.5em 0.4em;box-sizing: border-box;padding-bottom: 0.4em;background-color: white;}#sk-container-id-8 div.sk-label label {font-family: monospace;font-weight: bold;display: inline-block;line-height: 1.2em;}#sk-container-id-8 div.sk-label-container {text-align: center;}#sk-container-id-8 div.sk-container {/* jupyter's `normalize.less` sets `[hidden] { display: none; }` but bootstrap.min.css set `[hidden] { display: none !important; }` so we also need the `!important` here to be able to override the default hidden behavior on the sphinx rendered scikit-learn.org. See: https://github.com/scikit-learn/scikit-learn/issues/21755 */display: inline-block !important;position: relative;}#sk-container-id-8 div.sk-text-repr-fallback {display: none;}</style><div id=\"sk-container-id-8\" class=\"sk-top-container\"><div class=\"sk-text-repr-fallback\"><pre>LinearRegression()</pre><b>In a Jupyter environment, please rerun this cell to show the HTML representation or trust the notebook. <br />On GitHub, the HTML representation is unable to render, please try loading this page with nbviewer.org.</b></div><div class=\"sk-container\" hidden><div class=\"sk-item\"><div class=\"sk-estimator sk-toggleable\"><input class=\"sk-toggleable__control sk-hidden--visually\" id=\"sk-estimator-id-8\" type=\"checkbox\" checked><label for=\"sk-estimator-id-8\" class=\"sk-toggleable__label sk-toggleable__label-arrow\">LinearRegression</label><div class=\"sk-toggleable__content\"><pre>LinearRegression()</pre></div></div></div></div></div>"
            ]
          },
          "metadata": {},
          "execution_count": 54
        }
      ]
    },
    {
      "cell_type": "code",
      "source": [
        "y_pred = model.predict(X_test)\n",
        "y_pred"
      ],
      "metadata": {
        "colab": {
          "base_uri": "https://localhost:8080/"
        },
        "id": "38djp7BEPW5f",
        "outputId": "8ffdf17a-891c-4e02-a5f2-1f4939db354b"
      },
      "execution_count": 57,
      "outputs": [
        {
          "output_type": "execute_result",
          "data": {
            "text/plain": [
              "array([2.98575218, 1.94061325, 3.90398163, 3.84498032, 2.1680261 ,\n",
              "       2.60582699, 3.65155039, 2.31090817, 2.50534068, 2.3509249 ,\n",
              "       2.83515653, 2.13537228, 2.1389529 , 2.2854076 , 1.84415015,\n",
              "       3.13003355, 2.9775778 , 3.14430016, 2.63638097, 5.76225288,\n",
              "       3.51539752, 3.30404608, 2.24355298, 2.02073543, 3.09625338,\n",
              "       2.26938652, 2.0815602 , 3.27434496, 3.14662672, 6.60403271,\n",
              "       4.93408016, 1.65891577, 3.2774898 , 2.83817187, 2.91871607,\n",
              "       3.8815044 , 2.0688538 , 5.47790762, 2.37480412, 3.06180769,\n",
              "       2.11094147, 2.50259602, 3.36699633, 2.29479093, 1.95079059,\n",
              "       0.94708728, 1.89400456, 3.11987541, 1.8813126 ])"
            ]
          },
          "metadata": {},
          "execution_count": 57
        }
      ]
    },
    {
      "cell_type": "code",
      "source": [
        "# 평가지표\n",
        "mse = mean_squared_error(y_test, y_pred)\n",
        "print(\"Mean Squared Error (MSE) : \", mse)"
      ],
      "metadata": {
        "colab": {
          "base_uri": "https://localhost:8080/"
        },
        "id": "sMS9DV4nRMkt",
        "outputId": "fd0f65b0-b699-4506-cb15-5177ab796eb5"
      },
      "execution_count": 59,
      "outputs": [
        {
          "output_type": "stream",
          "name": "stdout",
          "text": [
            "Mean Squared Error (MSE) :  0.694812968628771\n"
          ]
        }
      ]
    },
    {
      "cell_type": "markdown",
      "source": [
        "### 참고. 레이블 하는 방법"
      ],
      "metadata": {
        "id": "u3iORnZjRWoQ"
      }
    },
    {
      "cell_type": "markdown",
      "source": [
        "tips.day.unique()![image.png])![image.png](data:image/png;base64,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)"
      ],
      "metadata": {
        "id": "wCWt_z5mRxJu"
      }
    },
    {
      "cell_type": "code",
      "source": [
        "# # 레이블 인코딩\n",
        "# tips['sex'] = tips['sex'].map({'Female': 0, 'Male': 1})\n",
        "# tips['smoker'] = tips['smoker'].map({'No': 0, 'Yes': 1})\n",
        "# tips['day'] = tips['day'].map({'Thur': 0, 'Fri': 1, 'Sat':2, 'Sun':3})\n",
        "# tips['time'] = tips['time'].map({'Lunch': 0, 'Dinner': 1})"
      ],
      "metadata": {
        "id": "vP4ouRD3TAso"
      },
      "execution_count": 62,
      "outputs": []
    },
    {
      "cell_type": "code",
      "source": [],
      "metadata": {
        "id": "_M932eJETBUV"
      },
      "execution_count": null,
      "outputs": []
    }
  ]
}