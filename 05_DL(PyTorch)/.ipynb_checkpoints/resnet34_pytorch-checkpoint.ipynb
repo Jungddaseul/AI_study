{
 "cells": [
  {
   "cell_type": "code",
   "execution_count": 3,
   "id": "72b68233",
   "metadata": {},
   "outputs": [],
   "source": [
    "import torch\n",
    "from torch.utils.data import Dataset, DataLoader\n",
    "import torch.nn as nn\n",
    "\n",
    "from torch import optim\n",
    "\n",
    "import torchvision.transforms as transforms\n",
    "from torchvision import datasets\n",
    "from torchvision import utils\n",
    "\n",
    "import numpy as np\n",
    "import matplotlib.pyplot as plt"
   ]
  },
  {
   "cell_type": "code",
   "execution_count": 4,
   "id": "02cf8049",
   "metadata": {},
   "outputs": [
    {
     "name": "stdout",
     "output_type": "stream",
     "text": [
      "cuda\n"
     ]
    }
   ],
   "source": [
    "device = 'cuda' if torch.cuda.is_available() else 'cpu'\n",
    "print(device)"
   ]
  },
  {
   "cell_type": "code",
   "execution_count": 5,
   "id": "285e25a9",
   "metadata": {},
   "outputs": [],
   "source": [
    "torch.manual_seed(777)\n",
    "if device == 'cuda':\n",
    "    torch.cuda.manual_seed_all(777)"
   ]
  },
  {
   "cell_type": "code",
   "execution_count": 8,
   "id": "f6b35557",
   "metadata": {},
   "outputs": [
    {
     "name": "stdout",
     "output_type": "stream",
     "text": [
      "Downloading http://fashion-mnist.s3-website.eu-central-1.amazonaws.com/train-images-idx3-ubyte.gz\n",
      "Downloading http://fashion-mnist.s3-website.eu-central-1.amazonaws.com/train-images-idx3-ubyte.gz to C:\\Users\\161332\\Documents\\github\\AI_study\\05_DL(PyTorch)\\FashionMNIST\\raw\\train-images-idx3-ubyte.gz\n"
     ]
    },
    {
     "name": "stderr",
     "output_type": "stream",
     "text": [
      "26422272it [00:06, 4118280.10it/s]                                                                                     \n"
     ]
    },
    {
     "name": "stdout",
     "output_type": "stream",
     "text": [
      "Extracting C:\\Users\\161332\\Documents\\github\\AI_study\\05_DL(PyTorch)\\FashionMNIST\\raw\\train-images-idx3-ubyte.gz to C:\\Users\\161332\\Documents\\github\\AI_study\\05_DL(PyTorch)\\FashionMNIST\\raw\n",
      "\n",
      "Downloading http://fashion-mnist.s3-website.eu-central-1.amazonaws.com/train-labels-idx1-ubyte.gz\n",
      "Downloading http://fashion-mnist.s3-website.eu-central-1.amazonaws.com/train-labels-idx1-ubyte.gz to C:\\Users\\161332\\Documents\\github\\AI_study\\05_DL(PyTorch)\\FashionMNIST\\raw\\train-labels-idx1-ubyte.gz\n"
     ]
    },
    {
     "name": "stderr",
     "output_type": "stream",
     "text": [
      "29696it [00:00, 99583.25it/s]                                                                                          \n"
     ]
    },
    {
     "name": "stdout",
     "output_type": "stream",
     "text": [
      "Extracting C:\\Users\\161332\\Documents\\github\\AI_study\\05_DL(PyTorch)\\FashionMNIST\\raw\\train-labels-idx1-ubyte.gz to C:\\Users\\161332\\Documents\\github\\AI_study\\05_DL(PyTorch)\\FashionMNIST\\raw\n",
      "\n",
      "Downloading http://fashion-mnist.s3-website.eu-central-1.amazonaws.com/t10k-images-idx3-ubyte.gz\n",
      "Downloading http://fashion-mnist.s3-website.eu-central-1.amazonaws.com/t10k-images-idx3-ubyte.gz to C:\\Users\\161332\\Documents\\github\\AI_study\\05_DL(PyTorch)\\FashionMNIST\\raw\\t10k-images-idx3-ubyte.gz\n"
     ]
    },
    {
     "name": "stderr",
     "output_type": "stream",
     "text": [
      "4422656it [00:03, 1320177.91it/s]                                                                                      \n"
     ]
    },
    {
     "name": "stdout",
     "output_type": "stream",
     "text": [
      "Extracting C:\\Users\\161332\\Documents\\github\\AI_study\\05_DL(PyTorch)\\FashionMNIST\\raw\\t10k-images-idx3-ubyte.gz to C:\\Users\\161332\\Documents\\github\\AI_study\\05_DL(PyTorch)\\FashionMNIST\\raw\n",
      "\n",
      "Downloading http://fashion-mnist.s3-website.eu-central-1.amazonaws.com/t10k-labels-idx1-ubyte.gz\n",
      "Downloading http://fashion-mnist.s3-website.eu-central-1.amazonaws.com/t10k-labels-idx1-ubyte.gz to C:\\Users\\161332\\Documents\\github\\AI_study\\05_DL(PyTorch)\\FashionMNIST\\raw\\t10k-labels-idx1-ubyte.gz\n"
     ]
    },
    {
     "name": "stderr",
     "output_type": "stream",
     "text": [
      "6144it [00:00, 6159130.92it/s]                                                                                         "
     ]
    },
    {
     "name": "stdout",
     "output_type": "stream",
     "text": [
      "Extracting C:\\Users\\161332\\Documents\\github\\AI_study\\05_DL(PyTorch)\\FashionMNIST\\raw\\t10k-labels-idx1-ubyte.gz to C:\\Users\\161332\\Documents\\github\\AI_study\\05_DL(PyTorch)\\FashionMNIST\\raw\n",
      "\n"
     ]
    },
    {
     "name": "stderr",
     "output_type": "stream",
     "text": [
      "\n"
     ]
    }
   ],
   "source": [
    "mnist_transform = transforms.Compose([transforms.ToTensor(),\n",
    "                                      transforms.Normalize(mean=(0.5), std=(1.0))])\n",
    "\n",
    "path = \"C:\\\\Users\\\\161332\\\\Documents\\\\github\\\\AI_study\\\\05_DL(PyTorch)\"\n",
    "\n",
    "trainset = datasets.FashionMNIST(root = path,\n",
    "                          train=True, transform=mnist_transform,\n",
    "                          download=True)\n",
    "\n",
    "testset = datasets.FashionMNIST(root = path,\n",
    "                         train = False, transform=mnist_transform,\n",
    "                         download=True)\n",
    "\n",
    "\n",
    "train_loader = DataLoader(dataset=trainset,\n",
    "                          batch_size = 10,\n",
    "                          shuffle=True)\n",
    "test_loader = DataLoader(dataset=testset,\n",
    "                         batch_size = 10,\n",
    "                         shuffle=False)"
   ]
  },
  {
   "cell_type": "code",
   "execution_count": 9,
   "id": "ef35a428",
   "metadata": {},
   "outputs": [
    {
     "data": {
      "text/plain": [
       "(torch.Size([10, 1, 28, 28]), torch.Size([10]))"
      ]
     },
     "execution_count": 9,
     "metadata": {},
     "output_type": "execute_result"
    }
   ],
   "source": [
    "dataiter = iter(train_loader)\n",
    "images, labels = next(dataiter)\n",
    "images.shape, labels.shape"
   ]
  },
  {
   "cell_type": "code",
   "execution_count": 10,
   "id": "b223ed92",
   "metadata": {},
   "outputs": [
    {
     "data": {
      "image/png": "[encoded data removed]",
      "text/plain": [
       "<Figure size 1200x1200 with 5 Axes>"
      ]
     },
     "metadata": {},
     "output_type": "display_data"
    }
   ],
   "source": [
    "labels_map = {\n",
    "    0 : 'T-Shirt',\n",
    "    1 : 'Trouser',\n",
    "    2 : 'Pullover',\n",
    "    3 : 'Dress',\n",
    "    4 : 'coat',\n",
    "    5 : 'Sandal',\n",
    "    6 : 'Shirt',\n",
    "    7 : 'Sneaker',\n",
    "    8 : 'Bag',\n",
    "    9 : 'Ankle Boot'\n",
    "}\n",
    "\n",
    "figure = plt.figure(figsize=(12, 12))\n",
    "cols, rows = 5, 1\n",
    "for i in range(cols * rows):\n",
    "    image = images[i].squeeze()\n",
    "    label_idx = labels[i].item()\n",
    "    label = labels_map[label_idx]\n",
    "\n",
    "    figure.add_subplot(rows, cols, i+1)\n",
    "    plt.title(label)\n",
    "    plt.axis('off')\n",
    "    plt.imshow(image, cmap='gray')\n",
    "\n",
    "plt.show()"
   ]
  },
  {
   "cell_type": "code",
   "execution_count": 11,
   "id": "ff8e84ac",
   "metadata": {},
   "outputs": [],
   "source": [
    "# 모델 정의\n",
    "class BasicBlock(nn.Module):\n",
    "    \"\"\"\n",
    "    Basic Block for resnet 18 and resnet 34\n",
    "    \"\"\"\n",
    "    expansion = 1\n",
    "\n",
    "    def __init__(self, in_channels, out_channels, stride=1, dropout_prob=0.5):\n",
    "        super().__init__()\n",
    "\n",
    "        # residual function\n",
    "        self.residual_function = nn.Sequential(\n",
    "            nn.Conv2d(in_channels, out_channels, kernel_size=3, stride=stride, padding=1, bias=False),\n",
    "            nn.BatchNorm2d(out_channels),\n",
    "            nn.ReLU(inplace=True),\n",
    "            nn.Conv2d(out_channels, out_channels * BasicBlock.expansion, kernel_size=3, padding=1, bias=False),\n",
    "            nn.BatchNorm2d(out_channels * BasicBlock.expansion),\n",
    "            nn.Dropout2d(p=dropout_prob)\n",
    "        )\n",
    "\n",
    "        # shortcut\n",
    "        self.shortcut = nn.Sequential()\n",
    "        \"\"\"\n",
    "        the shortcut output dimension is not the same with residual fuction\n",
    "        use 1 * 1 convolution to match the dimension\n",
    "        \"\"\"\n",
    "        if stride != 1 or in_channels != BasicBlock.expansion * out_channels:\n",
    "            self.shortcut = nn.Sequential(\n",
    "                nn.Conv2d(in_channels, out_channels * BasicBlock.expansion, kernel_size=1, stride=stride, bias=False),\n",
    "                nn.BatchNorm2d(out_channels * BasicBlock.expansion)\n",
    "            )\n",
    "\n",
    "    def forward(self, x):\n",
    "        return nn.ReLU(inplace=True)(self.residual_function(x) + self.shortcut(x))\n",
    "\n",
    "\n",
    "class ResNet(nn.Module):\n",
    "    def __init__(self, block, num_block, num_classes=10):\n",
    "        super().__init__()\n",
    "\n",
    "        self.in_channels = 64\n",
    "\n",
    "        self.conv1 = nn.Sequential(\n",
    "            nn.Conv2d(1, 64, kernel_size=3, padding=1, bias=False),\n",
    "            nn.BatchNorm2d(64),\n",
    "            nn.ReLU(inplace=True))\n",
    "\n",
    "        # we use a different inputsize than the original paper\n",
    "        # so conv2_x's stride is 1\n",
    "\n",
    "        self.conv2_x = self._make_layer(block, 64, num_block[0], 1)\n",
    "        self.conv3_x = self._make_layer(block, 128, num_block[1], 2)\n",
    "        self.conv4_x = self._make_layer(block, 256, num_block[2], 2)\n",
    "        self.conv5_x = self._make_layer(block, 512, num_block[3], 2)\n",
    "\n",
    "        self.avg_pool = nn.AdaptiveAvgPool2d((1, 1))\n",
    "        self.fc = nn.Linear(512 * block.expansion, num_classes)\n",
    "\n",
    "    def _make_layer(self, block, out_channels, num_blocks, stride):\n",
    "        strides = [stride] + [1] * (num_blocks -1)\n",
    "        layers = []\n",
    "        for stride in strides:\n",
    "            layers.append(block(self.in_channels, out_channels, stride))\n",
    "            self.in_channels = out_channels * block.expansion\n",
    "\n",
    "        return nn.Sequential(*layers)\n",
    "\n",
    "    def forward(self, x):\n",
    "        output = self.conv1(x)\n",
    "        output = self.conv2_x(output)\n",
    "        output = self.conv3_x(output)\n",
    "        output = self.conv4_x(output)\n",
    "        output = self.conv5_x(output)\n",
    "        output = self.avg_pool(output)\n",
    "        output = output.view(output.size(0), -1)\n",
    "        output = self.fc(output)\n",
    "\n",
    "        return output\n",
    "\n",
    "def resnet34():\n",
    "    return ResNet(BasicBlock, [3, 4, 6, 3])"
   ]
  },
  {
   "cell_type": "code",
   "execution_count": 12,
   "id": "b12650b4",
   "metadata": {},
   "outputs": [],
   "source": [
    "model = resnet34().to(device)\n",
    "criterion = nn.CrossEntropyLoss().to(device)\n",
    "optimizer = optim.Adam(model.parameters(), lr=0.001)"
   ]
  },
  {
   "cell_type": "code",
   "execution_count": 13,
   "id": "19b9abcd",
   "metadata": {},
   "outputs": [],
   "source": [
    "def train(model, train_loader, optimizer):\n",
    "    model.train()\n",
    "    running_loss = 0.0\n",
    "    correct = 0\n",
    "    total = 0\n",
    "\n",
    "    for batch_idx, (data, target) in enumerate(train_loader):\n",
    "        data, target = data.to(device, non_blocking=True), target.to(device, non_blocking=True)\n",
    "\n",
    "        optimizer.zero_grad()\n",
    "        output = model(data)\n",
    "        loss = criterion(output, target)\n",
    "        loss.backward()\n",
    "        optimizer.step()\n",
    "\n",
    "        running_loss += loss.item()\n",
    "        _, predicted = torch.max(output.data, 1)\n",
    "        total += target.size(0)\n",
    "        correct += (predicted == target).sum().item()\n",
    "\n",
    "    train_accuracy = 100 * correct / total\n",
    "\n",
    "    return running_loss / len(train_loader), train_accuracy"
   ]
  },
  {
   "cell_type": "code",
   "execution_count": 14,
   "id": "97dcce21",
   "metadata": {},
   "outputs": [],
   "source": [
    "def evaluate(model, test_loader):\n",
    "    model.eval()\n",
    "\n",
    "    test_loss = 0\n",
    "    correct = 0\n",
    "\n",
    "    with torch.no_grad():\n",
    "        for data, target in test_loader:\n",
    "            data, target = data.to(device, non_blocking=True), target.to(device, non_blocking=True)\n",
    "            output = model(data)\n",
    "\n",
    "            test_loss += criterion(output, target).item()\n",
    "\n",
    "            pred = output.max(1, keepdim=True)[1]\n",
    "            correct += pred.eq(target.view_as(pred)).sum().item()\n",
    "\n",
    "    test_loss /= len(test_loader)\n",
    "\n",
    "    test_accuracy = 100 * correct / len(test_loader.dataset)\n",
    "    return test_loss, test_accuracy"
   ]
  },
  {
   "cell_type": "code",
   "execution_count": 15,
   "id": "92b3e2f4",
   "metadata": {},
   "outputs": [
    {
     "name": "stdout",
     "output_type": "stream",
     "text": [
      "[1] Train loss : 0.6599 Test loss: 0.3835, Train_acc : 76.13 Test_acc: 85.47\n",
      "[2] Train loss : 0.3793 Test loss: 0.3026, Train_acc : 86.30 Test_acc: 88.72\n",
      "[3] Train loss : 0.3120 Test loss: 0.2896, Train_acc : 88.65 Test_acc: 89.62\n",
      "[4] Train loss : 0.2742 Test loss: 0.2549, Train_acc : 90.17 Test_acc: 90.78\n",
      "[5] Train loss : 0.2464 Test loss: 0.2505, Train_acc : 91.00 Test_acc: 91.20\n",
      "[6] Train loss : 0.2230 Test loss: 0.2289, Train_acc : 91.94 Test_acc: 91.87\n",
      "[7] Train loss : 0.2063 Test loss: 0.2305, Train_acc : 92.40 Test_acc: 92.02\n",
      "[8] Train loss : 0.1895 Test loss: 0.2326, Train_acc : 93.01 Test_acc: 92.19\n",
      "[9] Train loss : 0.1781 Test loss: 0.2325, Train_acc : 93.56 Test_acc: 92.34\n",
      "[10] Train loss : 0.1652 Test loss: 0.2326, Train_acc : 93.91 Test_acc: 92.66\n"
     ]
    }
   ],
   "source": [
    "num_epochs = 10\n",
    "train_losses, test_losses = [], []\n",
    "train_acc, test_acc = [], []\n",
    "\n",
    "for epoch in range(1, num_epochs+1):\n",
    "    train_loss, train_accuracy = train(model, train_loader, optimizer)\n",
    "    test_loss, test_accuracy = evaluate(model, test_loader)\n",
    "\n",
    "    print(\"[{}] Train loss : {:.4f} Test loss: {:.4f}, Train_acc : {:.2f} Test_acc: {:.2f}\".format(epoch, train_loss, test_loss, train_accuracy, test_accuracy))\n",
    "    train_losses.append(train_loss)\n",
    "    test_losses.append(test_loss)\n",
    "    train_acc.append(train_accuracy)\n",
    "    test_acc.append(test_accuracy)"
   ]
  },
  {
   "cell_type": "code",
   "execution_count": 16,
   "id": "064ee31e",
   "metadata": {},
   "outputs": [],
   "source": [
    "PATH = './fashion_mnist_resnet34.pth'\n",
    "torch.save(model.state_dict(), PATH)"
   ]
  },
  {
   "cell_type": "code",
   "execution_count": 17,
   "id": "929f1bcf",
   "metadata": {},
   "outputs": [
    {
     "data": {
      "image/png": "[encoded data removed]",
      "text/plain": [
       "<Figure size 640x480 with 1 Axes>"
      ]
     },
     "metadata": {},
     "output_type": "display_data"
    }
   ],
   "source": [
    "# train_losses와 test_losses 리스트를 사용하여 그래프 그리기\n",
    "# batch = 10, optimizer = optim.Adam(model.parameters(), lr=0.001) + dropout\n",
    "# [10] Train loss : 0.1652 Test loss: 0.2326, Train_acc : 93.91 Test_acc: 92.66\n",
    "plt.plot(range(1, num_epochs+1), train_losses, label='Train Loss')\n",
    "plt.plot(range(1, num_epochs+1), test_losses, label='Test Loss')\n",
    "plt.xlabel('Epoch')\n",
    "plt.ylabel('Loss')\n",
    "plt.title('Train Loss vs Test Loss')\n",
    "plt.legend()\n",
    "plt.show()"
   ]
  },
  {
   "cell_type": "code",
   "execution_count": 19,
   "id": "0dc439b7",
   "metadata": {},
   "outputs": [
    {
     "data": {
      "image/png": "[encoded data removed]",
      "text/plain": [
       "<Figure size 640x480 with 1 Axes>"
      ]
     },
     "metadata": {},
     "output_type": "display_data"
    }
   ],
   "source": [
    "# train_acc test_acc 리스트를 사용하여 그래프 그리기\n",
    "# batch = 10, optimizer = optim.Adam(model.parameters(), lr=0.001) + dropout\n",
    "# [10] Train loss : 0.1652 Test loss: 0.2326, Train_acc : 93.91 Test_acc: 92.66\n",
    "plt.plot(range(1, num_epochs+1), train_acc, label='Train Acc')\n",
    "plt.plot(range(1, num_epochs+1), test_acc, label='Test Acc')\n",
    "plt.xlabel('Epoch')\n",
    "plt.ylabel('Accuracy')\n",
    "plt.title('Train Accuracy vs Test Accuracy')\n",
    "plt.legend()\n",
    "plt.show()"
   ]
  },
  {
   "cell_type": "code",
   "execution_count": null,
   "id": "90646515",
   "metadata": {},
   "outputs": [],
   "source": []
  }
 ],
 "metadata": {
  "kernelspec": {
   "display_name": "Python 3 (ipykernel)",
   "language": "python",
   "name": "python3"
  },
  "language_info": {
   "codemirror_mode": {
    "name": "ipython",
    "version": 3
   },
   "file_extension": ".py",
   "mimetype": "text/x-python",
   "name": "python",
   "nbconvert_exporter": "python",
   "pygments_lexer": "ipython3",
   "version": "3.9.7"
  }
 },
 "nbformat": 4,
 "nbformat_minor": 5
}
