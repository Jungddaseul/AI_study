{
 "cells": [
  {
   "cell_type": "markdown",
   "id": "e128d217",
   "metadata": {},
   "source": [
    "### numpy 기본"
   ]
  },
  {
   "cell_type": "code",
   "execution_count": 1,
   "id": "d3671de9",
   "metadata": {},
   "outputs": [],
   "source": [
    "# ! : 외부 명령 실행\n",
    "# pip : 파이썬 패키지 관리 명령\n",
    "# list : pip 명령에서 사용하여 매개변수. 설치된 패지지 목록 확인\n",
    "#\n",
    "# pip install numpy\n",
    "\n",
    "# 라이브러리 불러오기\n",
    "import numpy as np"
   ]
  },
  {
   "cell_type": "code",
   "execution_count": 2,
   "id": "d4e7429a",
   "metadata": {},
   "outputs": [],
   "source": [
    "def asprint( arr ):\n",
    "    # NumPy ndarray 객체 속성( attribute )\n",
    "    #\n",
    "    # arr 인수 : ndarray 객체( array ) \n",
    "    #\n",
    "    # shape : array 구조\n",
    "    # ndim : array 차원\n",
    "    # dtype : array 자료형\n",
    "    #\n",
    "    print( f'type : {type( arr )}' )\n",
    "    print( f'shape : {arr.shape}\\tdimension = {arr.ndim}' )\n",
    "    print( f'dtype : {arr.dtype}' )\n",
    "    print( f\"Array's data : \\n{ arr }\" )"
   ]
  },
  {
   "cell_type": "markdown",
   "id": "178086dc",
   "metadata": {},
   "source": [
    "## 1. ndarray\n",
    "- np.array() 함수는 리스트, 튜플, 배열붙 ndarray를 생성하면 인덱스가 항상 0으로 시작\n",
    "- 데이터 유형은 dtype\n",
    "- 넘파이 배열의 특징은 크기가 고정되어 있어 리스트 처럼 크기를 늘리거나 줄일 수 없다."
   ]
  },
  {
   "cell_type": "code",
   "execution_count": 3,
   "id": "7cf99482",
   "metadata": {},
   "outputs": [
    {
     "name": "stdout",
     "output_type": "stream",
     "text": [
      "type : <class 'numpy.ndarray'>\n",
      "shape : (5,)\tdimension = 1\n",
      "dtype : int32\n",
      "Array's data : \n",
      "[1 2 3 4 5]\n"
     ]
    }
   ],
   "source": [
    "# 1차원 배열\n",
    "arr = np.array([1, 2, 3, 4, 5])\n",
    "asprint(arr)"
   ]
  },
  {
   "cell_type": "code",
   "execution_count": 5,
   "id": "5b984603",
   "metadata": {},
   "outputs": [
    {
     "name": "stdout",
     "output_type": "stream",
     "text": [
      "type : <class 'numpy.ndarray'>\n",
      "shape : (2, 5)\tdimension = 2\n",
      "dtype : int32\n",
      "Array's data : \n",
      "[[ 1  2  3  4  5]\n",
      " [ 6  7  8  9 10]]\n"
     ]
    }
   ],
   "source": [
    "# 2차원 배열\n",
    "arr2 = np.array([[1, 2, 3, 4, 5], [6, 7, 8, 9, 10]])\n",
    "asprint(arr2)"
   ]
  },
  {
   "cell_type": "markdown",
   "id": "49d447d8",
   "metadata": {},
   "source": [
    "### 1-2. 배열 생성\n",
    "- array() 함수는 리스트 외에도 튜플을 사용해서 배열을 생성할 수 있다."
   ]
  },
  {
   "cell_type": "code",
   "execution_count": 8,
   "id": "530e1e4b",
   "metadata": {},
   "outputs": [
    {
     "name": "stdout",
     "output_type": "stream",
     "text": [
      "type : <class 'numpy.ndarray'>\n",
      "shape : (2, 4)\tdimension = 2\n",
      "dtype : int32\n",
      "Array's data : \n",
      "[[1 2 3 4]\n",
      " [5 6 7 8]]\n",
      "---------------------------------------\n",
      "type : <class 'numpy.ndarray'>\n",
      "shape : (3, 4)\tdimension = 2\n",
      "dtype : int32\n",
      "Array's data : \n",
      "[[ 1  2  3  4]\n",
      " [ 5  6  7  8]\n",
      " [ 9 10 11 12]]\n"
     ]
    }
   ],
   "source": [
    "# 튜플을 이용한 2차원 배열 생성\n",
    "arr3 = np.array(((1, 2, 3, 4), (5, 6, 7, 8)))\n",
    "asprint(arr3)\n",
    "print('---------------------------------------')\n",
    "\n",
    "arr4 = np.array([(1, 2, 3, 4,), (5, 6, 7, 8), (9, 10, 11, 12)])\n",
    "asprint(arr4)"
   ]
  },
  {
   "cell_type": "markdown",
   "id": "1375dc4f",
   "metadata": {},
   "source": [
    "### 1-3. 함수를 이용한 배열의 생성\n",
    "- zeros() : 배열을 모두 0으로 초기화 한다.\n",
    "- ones() : 배열을 모두 1으로 초기화 한다.\n",
    "- full() : 배열에 사용자가 지정한 값으로 초기화 한다.\n",
    "- eye() : 대각선으로는 1이고 나머지는 0인 2차원 배열을 생성한다.\n",
    "- linspace() : 균일 간격의 값을 갖는 배열"
   ]
  },
  {
   "cell_type": "code",
   "execution_count": 14,
   "id": "0d3e2dc0",
   "metadata": {},
   "outputs": [
    {
     "name": "stdout",
     "output_type": "stream",
     "text": [
      "type : <class 'numpy.ndarray'>\n",
      "shape : (3, 4)\tdimension = 2\n",
      "dtype : float64\n",
      "Array's data : \n",
      "[[0. 0. 0. 0.]\n",
      " [0. 0. 0. 0.]\n",
      " [0. 0. 0. 0.]]\n"
     ]
    }
   ],
   "source": [
    "a = np.zeros( ( 3, 4 ) ) # 0으로 초기화된 배열 생성\n",
    "asprint(a)"
   ]
  },
  {
   "cell_type": "code",
   "execution_count": 15,
   "id": "967e791e",
   "metadata": {},
   "outputs": [
    {
     "name": "stdout",
     "output_type": "stream",
     "text": [
      "type : <class 'numpy.ndarray'>\n",
      "shape : (3, 4)\tdimension = 2\n",
      "dtype : float64\n",
      "Array's data : \n",
      "[[1. 1. 1. 1.]\n",
      " [1. 1. 1. 1.]\n",
      " [1. 1. 1. 1.]]\n"
     ]
    }
   ],
   "source": [
    "# 1로 초기화된 배열 생성\n",
    "a = np.ones( (3, 4) )\n",
    "asprint(a)"
   ]
  },
  {
   "cell_type": "code",
   "execution_count": 16,
   "id": "899d5ae2",
   "metadata": {},
   "outputs": [
    {
     "name": "stdout",
     "output_type": "stream",
     "text": [
      "type : <class 'numpy.ndarray'>\n",
      "shape : (3, 4)\tdimension = 2\n",
      "dtype : int32\n",
      "Array's data : \n",
      "[[7 7 7 7]\n",
      " [7 7 7 7]\n",
      " [7 7 7 7]]\n"
     ]
    }
   ],
   "source": [
    "# 임의의 값으로 초기화된 배열 생성\n",
    "a = np.full((3, 4), 7)\n",
    "asprint(a)"
   ]
  },
  {
   "cell_type": "code",
   "execution_count": 17,
   "id": "d228e991",
   "metadata": {},
   "outputs": [
    {
     "name": "stdout",
     "output_type": "stream",
     "text": [
      "type : <class 'numpy.ndarray'>\n",
      "shape : (4, 4)\tdimension = 2\n",
      "dtype : float64\n",
      "Array's data : \n",
      "[[1. 0. 0. 0.]\n",
      " [0. 1. 0. 0.]\n",
      " [0. 0. 1. 0.]\n",
      " [0. 0. 0. 1.]]\n"
     ]
    }
   ],
   "source": [
    "# (N, N) 구조의 단위 행렬 생성\n",
    "a = np.eye(4)\n",
    "asprint(a)"
   ]
  },
  {
   "cell_type": "code",
   "execution_count": 18,
   "id": "d3faed46",
   "metadata": {},
   "outputs": [
    {
     "name": "stdout",
     "output_type": "stream",
     "text": [
      "type : <class 'numpy.ndarray'>\n",
      "shape : (5,)\tdimension = 1\n",
      "dtype : float64\n",
      "Array's data : \n",
      "[0.   0.25 0.5  0.75 1.  ]\n"
     ]
    }
   ],
   "source": [
    "# 0~1까지 5개의 균일 간격의 값을 갖는 배열 생성\n",
    "a = np.linspace(0,1,5)\n",
    "asprint(a)"
   ]
  },
  {
   "cell_type": "markdown",
   "id": "702a1ef7",
   "metadata": {},
   "source": [
    "## 2. 인덱싱, 슬라이싱\n",
    "\n",
    "### 2-1. 인덱싱\n",
    "- 인덱싱은 대활호[]를 사용하여 값을 추출하거나, 항목을 선택하는 등 다양한 기능을 수행한다."
   ]
  },
  {
   "cell_type": "code",
   "execution_count": 22,
   "id": "b4ee7be8",
   "metadata": {},
   "outputs": [
    {
     "name": "stdout",
     "output_type": "stream",
     "text": [
      "type : <class 'numpy.ndarray'>\n",
      "shape : (14,)\tdimension = 1\n",
      "dtype : int32\n",
      "Array's data : \n",
      "[ 3  5  7  9 11 13 15 17 19 21 23 25 27 29]\n",
      "6번째 요소 : 13\n",
      "배열의 마지막 요소 : 29\n",
      "뒤에서 3번째요소 : 25\n",
      "여러 요소 선택 : [ 5  9 13]\n"
     ]
    }
   ],
   "source": [
    "# 1차원 배열 생성\n",
    "a = np.arange(3, 30, 2)\n",
    "asprint(a)\n",
    "\n",
    "# 요소 선택\n",
    "print(f'6번째 요소 : {a[5]}')\n",
    "print(f'배열의 마지막 요소 : {a[-1]}')\n",
    "print(f'뒤에서 3번째요소 : {a[-3]}')\n",
    "print(f'여러 요소 선택 : {a[[1, 3, 5,]]}')\n"
   ]
  },
  {
   "cell_type": "code",
   "execution_count": 26,
   "id": "076454fe",
   "metadata": {},
   "outputs": [
    {
     "name": "stdout",
     "output_type": "stream",
     "text": [
      "type : <class 'numpy.ndarray'>\n",
      "shape : (3, 3)\tdimension = 2\n",
      "dtype : int32\n",
      "Array's data : \n",
      "[[10 11 12]\n",
      " [13 14 15]\n",
      " [16 17 18]]\n",
      "18\n"
     ]
    }
   ],
   "source": [
    "# 2차원 배열 생성\n",
    "a = np.arange(10, 19).reshape((3,3))\n",
    "asprint(a)\n",
    "\n",
    "# 마지막 요소 선택\n",
    "print(a[2, 2])"
   ]
  },
  {
   "attachments": {
    "image.png": {
     "image/png": "[encoded data removed]"
    }
   },
   "cell_type": "markdown",
   "id": "b92c00a3",
   "metadata": {},
   "source": [
    "![image.png](attachment:image.png)\n"
   ]
  },
  {
   "cell_type": "markdown",
   "id": "24871070",
   "metadata": {},
   "source": [
    "### 2-2. 슬라이싱\n",
    "- 인덱싱과 같이 배열 일부를 추출할 수 있다.\n",
    "- 대괄호 안에 콜론(:)으로 구분하여 사용한다.\n",
    "- 시작요소의 인덱스와 마지막 요소의 인덱스를 명시해준다.\n",
    "- 세 번째 인수를 전달하게 되면 값을 건너뛰면서 배열 일부를 추출할 수 있다."
   ]
  },
  {
   "cell_type": "code",
   "execution_count": 34,
   "id": "0e2b2893",
   "metadata": {},
   "outputs": [
    {
     "name": "stdout",
     "output_type": "stream",
     "text": [
      "type : <class 'numpy.ndarray'>\n",
      "shape : (14,)\tdimension = 1\n",
      "dtype : int32\n",
      "Array's data : \n",
      "[ 2  4  6  8 10 12 14 16 18 20 22 24 26 28]\n",
      "일부배열:  [ 6  8 10 12]\n",
      "예시 :  [ 4  8 12]\n"
     ]
    }
   ],
   "source": [
    "# 슬라이싱 예제\n",
    "arr1 = np.arange(2, 30, 2)\n",
    "asprint(arr1)\n",
    "\n",
    "# 배열 일부를 슬라이싱\n",
    "print('일부배열: ', arr1[2:6])\n",
    "\n",
    "# 세번 째 인수 사용의 예\n",
    "print(\"예시 : \", arr1[1:7:2])"
   ]
  },
  {
   "cell_type": "code",
   "execution_count": 39,
   "id": "82ea87ac",
   "metadata": {},
   "outputs": [
    {
     "name": "stdout",
     "output_type": "stream",
     "text": [
      "[ 2  6 10 14 18 22 26]\n",
      "[2 6]\n",
      "[2 4 6 8]\n"
     ]
    }
   ],
   "source": [
    "# 첨부터 2개씩 건너 뛰면서 출력\n",
    "print(arr1[::2])\n",
    "\n",
    "# 처음부터 3번째 요소까지 2개씩 건너 뛰면서 출력\n",
    "print(arr1[:4:2])\n",
    "\n",
    "# 처음부터 3번째 요소까지 출력\n",
    "print(arr1[:4])"
   ]
  },
  {
   "cell_type": "code",
   "execution_count": 49,
   "id": "78d35b70",
   "metadata": {},
   "outputs": [
    {
     "name": "stdout",
     "output_type": "stream",
     "text": [
      "type : <class 'numpy.ndarray'>\n",
      "shape : (3, 4)\tdimension = 2\n",
      "dtype : int32\n",
      "Array's data : \n",
      "[[ 1  2  3  4]\n",
      " [ 5  6  7  8]\n",
      " [ 9 10 11 12]]\n",
      "\n",
      "3번째 행만 추출하는 경우\n",
      "[ 9 10 11 12]\n",
      "배열 일부 추출\n",
      "[[1]\n",
      " [5]]\n"
     ]
    }
   ],
   "source": [
    "# 2차원 배열에서는 행과 열에 대해 별도로 정의해야 슬라이싱이 적용된다.\n",
    "arr2 = np.arange(1, 13).reshape((3,4))\n",
    "asprint(arr2)\n",
    "print()\n",
    "# 3번째 행만 추출하는 경우\n",
    "print('3번째 행만 추출하는 경우')\n",
    "print(arr2[2, :])\n",
    "\n",
    "print('배열 일부 추출')\n",
    "print(arr2[0:2, 0:1])"
   ]
  },
  {
   "attachments": {
    "image.png": {
     "image/png": "[encoded data removed]"
    }
   },
   "cell_type": "markdown",
   "id": "dbcab045",
   "metadata": {},
   "source": [
    "- arr2에 대해 arr2[[row1, row2], [col1, col2]]과 같이 표현\n",
    "![image.png](attachment:image.png)"
   ]
  },
  {
   "cell_type": "markdown",
   "id": "56c4426f",
   "metadata": {},
   "source": [
    "### 2-3. 배열의 반복\n",
    "- 배열의 내부요소를 반복적으로 사용하기 위해서는 for루프를 많이 사용한다.\n",
    "- for 루프보다 더 유용한 기능 -> apply_alog_axis() 함수 사용\n",
    "- 이 함수는 단일 열이나 모든 행에 대해 집계 함수를 실행할 때 반복해서 배열의 내부요소에 접근하도록 해준다.\n",
    "- 사용할 함수, 반복을 적용할 축, 사용할 배열과 관련한 정보를 인수로 전달\n",
    "- 축의 값이 0이면 행을 기준으로 반복하며 축이 1이면 열을 기준으로 반복"
   ]
  },
  {
   "cell_type": "code",
   "execution_count": 58,
   "id": "b2ce016d",
   "metadata": {},
   "outputs": [
    {
     "name": "stdout",
     "output_type": "stream",
     "text": [
      "type : <class 'numpy.ndarray'>\n",
      "shape : (4, 5)\tdimension = 2\n",
      "dtype : int32\n",
      "Array's data : \n",
      "[[ 0  1  2  3  4]\n",
      " [ 5  6  7  8  9]\n",
      " [10 11 12 13 14]\n",
      " [15 16 17 18 19]]\n",
      "-------------------\n",
      "열을 기준으로 반복\n",
      "[ 7.5  8.5  9.5 10.5 11.5]\n",
      "\n",
      "행을 기준으로 반복\n",
      "[ 2.  7. 12. 17.]\n"
     ]
    }
   ],
   "source": [
    "# 2차원 배열에 대한 슬라이싱\n",
    "arr3 = np.arange(0,20).reshape((4,5))\n",
    "asprint(arr3)\n",
    "print('-------------------')\n",
    "\n",
    "# 열을 기준으로 반복\n",
    "print('열을 기준으로 반복')\n",
    "print(np.apply_along_axis(np.mean, 0, arr3)) # (함수, 축, 배열)\n",
    "print()\n",
    "# 행을 기준으로 반복\n",
    "print('행을 기준으로 반복')\n",
    "print(np.apply_along_axis(np.mean, 1, arr3))"
   ]
  },
  {
   "cell_type": "markdown",
   "id": "735cd14a",
   "metadata": {},
   "source": [
    "## 3. 조건 및 부울연산을 통한 배열 추출"
   ]
  },
  {
   "cell_type": "code",
   "execution_count": 60,
   "id": "9e6fbc26",
   "metadata": {},
   "outputs": [
    {
     "name": "stdout",
     "output_type": "stream",
     "text": [
      "type : <class 'numpy.ndarray'>\n",
      "shape : (3, 5)\tdimension = 2\n",
      "dtype : float64\n",
      "Array's data : \n",
      "[[0.77927751 0.49287579 0.845626   0.97693291 0.51436787]\n",
      " [0.73686488 0.73184572 0.42856357 0.46745184 0.399344  ]\n",
      " [0.50416125 0.80885847 0.05389069 0.2193617  0.33638742]]\n"
     ]
    }
   ],
   "source": [
    "arr4 = np.random.random((3, 5))\n",
    "asprint(arr4)"
   ]
  },
  {
   "cell_type": "code",
   "execution_count": 61,
   "id": "c9401b73",
   "metadata": {},
   "outputs": [
    {
     "name": "stdout",
     "output_type": "stream",
     "text": [
      "[[False  True False False False]\n",
      " [False False  True  True  True]\n",
      " [False False  True  True  True]]\n"
     ]
    }
   ],
   "source": [
    "# 0.5보다 작은 값을 참, 거짓 형태로 확인\n",
    "print(arr4 < 0.5)"
   ]
  },
  {
   "cell_type": "code",
   "execution_count": 63,
   "id": "8efcfb94",
   "metadata": {},
   "outputs": [
    {
     "name": "stdout",
     "output_type": "stream",
     "text": [
      "[0.49287579 0.42856357 0.46745184 0.399344   0.05389069 0.2193617\n",
      " 0.33638742]\n"
     ]
    }
   ],
   "source": [
    "# 해당되는 실제 값을 반환\n",
    "print(arr4[arr4 < 0.5])"
   ]
  },
  {
   "cell_type": "code",
   "execution_count": null,
   "id": "df02e697",
   "metadata": {},
   "outputs": [],
   "source": []
  }
 ],
 "metadata": {
  "kernelspec": {
   "display_name": "Python 3",
   "language": "python",
   "name": "python3"
  },
  "language_info": {
   "codemirror_mode": {
    "name": "ipython",
    "version": 3
   },
   "file_extension": ".py",
   "mimetype": "text/x-python",
   "name": "python",
   "nbconvert_exporter": "python",
   "pygments_lexer": "ipython3",
   "version": "3.8.8"
  }
 },
 "nbformat": 4,
 "nbformat_minor": 5
}
