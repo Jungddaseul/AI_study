{
 "cells": [
  {
   "cell_type": "markdown",
   "id": "5f966a69",
   "metadata": {},
   "source": [
    "## 4. 넘파이의 기본연산\n",
    "### 참고 Broadcasting\n",
    "- 기본 연산은 element wise로 적용되므로 모양이 다른 배열 간의 연산은 불가능하지만 특정 조건이 충족되면 배열 변환이 자동으로 일어나서 연산이 가능해진다.\n",
    "- 이를 broadcasting(브로드캐스팅)이라고 한다."
   ]
  },
  {
   "cell_type": "code",
   "execution_count": 1,
   "id": "3a0b8a0f",
   "metadata": {},
   "outputs": [],
   "source": [
    "import numpy as np"
   ]
  },
  {
   "cell_type": "code",
   "execution_count": 2,
   "id": "9b7f147a",
   "metadata": {},
   "outputs": [],
   "source": [
    "def asprint( arr ):\n",
    "    # NumPy ndarray 객체 속성( attribute )\n",
    "    #\n",
    "    # arr 인수 : ndarray 객체( array ) \n",
    "    #\n",
    "    # shape : array 구조\n",
    "    # ndim : array 차원\n",
    "    # dtype : array 자료형\n",
    "    #\n",
    "    print( f'type : {type( arr )}' )\n",
    "    print( f'shape : {arr.shape}\\tdimension = {arr.ndim}' )\n",
    "    print( f'dtype : {arr.dtype}' )\n",
    "    print( f\"Array's data : \\n{ arr }\" )"
   ]
  },
  {
   "cell_type": "markdown",
   "id": "f82fac54",
   "metadata": {},
   "source": [
    "### 4-1. 산술연산\n"
   ]
  },
  {
   "cell_type": "code",
   "execution_count": 3,
   "id": "eac7ca07",
   "metadata": {},
   "outputs": [
    {
     "name": "stdout",
     "output_type": "stream",
     "text": [
      "type : <class 'numpy.ndarray'>\n",
      "shape : (10,)\tdimension = 1\n",
      "dtype : int32\n",
      "Array's data : \n",
      "[0 1 2 3 4 5 6 7 8 9]\n"
     ]
    }
   ],
   "source": [
    "arr1 = np.arange(10)\n",
    "asprint(arr1)"
   ]
  },
  {
   "cell_type": "code",
   "execution_count": 5,
   "id": "1672d4f2",
   "metadata": {},
   "outputs": [
    {
     "name": "stdout",
     "output_type": "stream",
     "text": [
      "10더하기 :  [10 11 12 13 14 15 16 17 18 19]\n",
      "3곱하기 :  [ 0  3  6  9 12 15 18 21 24 27]\n"
     ]
    }
   ],
   "source": [
    "print('10더하기 : ', arr1 + 10)\n",
    "print('3곱하기 : ', arr1 * 3)"
   ]
  },
  {
   "cell_type": "markdown",
   "id": "c9f7d0cc",
   "metadata": {},
   "source": [
    "### 4-1-1. 사칙연산"
   ]
  },
  {
   "cell_type": "code",
   "execution_count": 7,
   "id": "c5492629",
   "metadata": {},
   "outputs": [
    {
     "name": "stdout",
     "output_type": "stream",
     "text": [
      "[0 1 2 3]\n",
      "[1 2 3 4]\n"
     ]
    }
   ],
   "source": [
    "a = np.arange(4)\n",
    "b = np.arange(1, 5)\n",
    "print(a)\n",
    "print(b)"
   ]
  },
  {
   "cell_type": "code",
   "execution_count": 8,
   "id": "286a7307",
   "metadata": {},
   "outputs": [
    {
     "data": {
      "text/plain": [
       "array([1, 3, 5, 7])"
      ]
     },
     "execution_count": 8,
     "metadata": {},
     "output_type": "execute_result"
    }
   ],
   "source": [
    "a+b"
   ]
  },
  {
   "cell_type": "code",
   "execution_count": 12,
   "id": "970c91e1",
   "metadata": {},
   "outputs": [
    {
     "data": {
      "text/plain": [
       "array([1, 3, 5, 7])"
      ]
     },
     "execution_count": 12,
     "metadata": {},
     "output_type": "execute_result"
    }
   ],
   "source": [
    "np.add(a,b)"
   ]
  },
  {
   "cell_type": "code",
   "execution_count": 9,
   "id": "4a17c711",
   "metadata": {},
   "outputs": [
    {
     "data": {
      "text/plain": [
       "array([-1, -1, -1, -1])"
      ]
     },
     "execution_count": 9,
     "metadata": {},
     "output_type": "execute_result"
    }
   ],
   "source": [
    "a-b"
   ]
  },
  {
   "cell_type": "code",
   "execution_count": 13,
   "id": "332b3198",
   "metadata": {},
   "outputs": [
    {
     "data": {
      "text/plain": [
       "array([-1, -1, -1, -1])"
      ]
     },
     "execution_count": 13,
     "metadata": {},
     "output_type": "execute_result"
    }
   ],
   "source": [
    "np.subtract(a,b)"
   ]
  },
  {
   "cell_type": "code",
   "execution_count": 10,
   "id": "0338cbc5",
   "metadata": {},
   "outputs": [
    {
     "data": {
      "text/plain": [
       "array([ 0,  2,  6, 12])"
      ]
     },
     "execution_count": 10,
     "metadata": {},
     "output_type": "execute_result"
    }
   ],
   "source": [
    "a*b"
   ]
  },
  {
   "cell_type": "code",
   "execution_count": 14,
   "id": "00f37951",
   "metadata": {},
   "outputs": [
    {
     "data": {
      "text/plain": [
       "array([ 0,  2,  6, 12])"
      ]
     },
     "execution_count": 14,
     "metadata": {},
     "output_type": "execute_result"
    }
   ],
   "source": [
    "np.multiply(a, b)"
   ]
  },
  {
   "cell_type": "code",
   "execution_count": 11,
   "id": "e7e94c86",
   "metadata": {},
   "outputs": [
    {
     "data": {
      "text/plain": [
       "array([0.        , 0.5       , 0.66666667, 0.75      ])"
      ]
     },
     "execution_count": 11,
     "metadata": {},
     "output_type": "execute_result"
    }
   ],
   "source": [
    "a/b"
   ]
  },
  {
   "cell_type": "code",
   "execution_count": 15,
   "id": "fe37cb94",
   "metadata": {},
   "outputs": [
    {
     "data": {
      "text/plain": [
       "array([0.        , 0.5       , 0.66666667, 0.75      ])"
      ]
     },
     "execution_count": 15,
     "metadata": {},
     "output_type": "execute_result"
    }
   ],
   "source": [
    "np.divide(a,b)"
   ]
  },
  {
   "cell_type": "markdown",
   "id": "5917d7ad",
   "metadata": {},
   "source": [
    "### 4-1-2. 그 외 연산 ufunc 범용함수"
   ]
  },
  {
   "cell_type": "code",
   "execution_count": 20,
   "id": "0db06edc",
   "metadata": {},
   "outputs": [
    {
     "name": "stdout",
     "output_type": "stream",
     "text": [
      "type : <class 'numpy.ndarray'>\n",
      "shape : (3, 3)\tdimension = 2\n",
      "dtype : int32\n",
      "Array's data : \n",
      "[[1 2 3]\n",
      " [4 5 6]\n",
      " [7 8 9]]\n"
     ]
    }
   ],
   "source": [
    "c = np.arange(1, 10).reshape(3,3)\n",
    "asprint(c)"
   ]
  },
  {
   "cell_type": "code",
   "execution_count": 22,
   "id": "e5f2a0ef",
   "metadata": {},
   "outputs": [
    {
     "data": {
      "text/plain": [
       "array([[ 0.84147098,  0.90929743,  0.14112001],\n",
       "       [-0.7568025 , -0.95892427, -0.2794155 ],\n",
       "       [ 0.6569866 ,  0.98935825,  0.41211849]])"
      ]
     },
     "execution_count": 22,
     "metadata": {},
     "output_type": "execute_result"
    }
   ],
   "source": [
    "np.sin(c) # sin"
   ]
  },
  {
   "cell_type": "code",
   "execution_count": 23,
   "id": "626b072d",
   "metadata": {},
   "outputs": [
    {
     "data": {
      "text/plain": [
       "array([[ 0.54030231, -0.41614684, -0.9899925 ],\n",
       "       [-0.65364362,  0.28366219,  0.96017029],\n",
       "       [ 0.75390225, -0.14550003, -0.91113026]])"
      ]
     },
     "execution_count": 23,
     "metadata": {},
     "output_type": "execute_result"
    }
   ],
   "source": [
    "np.cos(c) # cos"
   ]
  },
  {
   "cell_type": "code",
   "execution_count": 25,
   "id": "edeed709",
   "metadata": {},
   "outputs": [
    {
     "data": {
      "text/plain": [
       "array([[ 1.55740772, -2.18503986, -0.14254654],\n",
       "       [ 1.15782128, -3.38051501, -0.29100619],\n",
       "       [ 0.87144798, -6.79971146, -0.45231566]])"
      ]
     },
     "execution_count": 25,
     "metadata": {},
     "output_type": "execute_result"
    }
   ],
   "source": [
    "np.tan(c) # tan"
   ]
  },
  {
   "cell_type": "code",
   "execution_count": 27,
   "id": "01aeb1f4",
   "metadata": {},
   "outputs": [
    {
     "data": {
      "text/plain": [
       "array([[0.        , 0.69314718, 1.09861229],\n",
       "       [1.38629436, 1.60943791, 1.79175947],\n",
       "       [1.94591015, 2.07944154, 2.19722458]])"
      ]
     },
     "execution_count": 27,
     "metadata": {},
     "output_type": "execute_result"
    }
   ],
   "source": [
    "np.log(c) # log"
   ]
  },
  {
   "cell_type": "code",
   "execution_count": 28,
   "id": "a62c9eaa",
   "metadata": {},
   "outputs": [
    {
     "data": {
      "text/plain": [
       "array([[2.71828183e+00, 7.38905610e+00, 2.00855369e+01],\n",
       "       [5.45981500e+01, 1.48413159e+02, 4.03428793e+02],\n",
       "       [1.09663316e+03, 2.98095799e+03, 8.10308393e+03]])"
      ]
     },
     "execution_count": 28,
     "metadata": {},
     "output_type": "execute_result"
    }
   ],
   "source": [
    "np.exp(c) # 지수"
   ]
  },
  {
   "cell_type": "markdown",
   "id": "2809881c",
   "metadata": {},
   "source": [
    "### 4-1-3. Broadcasting 예제"
   ]
  },
  {
   "cell_type": "code",
   "execution_count": 38,
   "id": "221014df",
   "metadata": {},
   "outputs": [
    {
     "name": "stdout",
     "output_type": "stream",
     "text": [
      "[1 2 3 4]\n",
      "[0 2 4 6]\n"
     ]
    }
   ],
   "source": [
    "a = [0, 1, 2, 3]\n",
    "c = np.arange(4) # [0 1 2 3]\n",
    "\n",
    "print(c + 1)\n",
    "print(a + c)"
   ]
  },
  {
   "attachments": {
    "image.png": {
     "image/png": "[encoded data removed]"
    }
   },
   "cell_type": "markdown",
   "id": "d6895f08",
   "metadata": {},
   "source": [
    "### 4-2. 행렬연산\n",
    "- 행렬의 연산이기 때문에 배열의 모양에 유의해야한다.\n",
    "- dot() 함수를 이용하여 행렬 연산을 한다.\n",
    "![image.png](attachment:image.png)"
   ]
  },
  {
   "cell_type": "code",
   "execution_count": 29,
   "id": "64c36b1a",
   "metadata": {},
   "outputs": [
    {
     "name": "stdout",
     "output_type": "stream",
     "text": [
      "type : <class 'numpy.ndarray'>\n",
      "shape : (3, 3)\tdimension = 2\n",
      "dtype : int32\n",
      "Array's data : \n",
      "[[1 2 3]\n",
      " [4 5 6]\n",
      " [7 8 9]]\n",
      "type : <class 'numpy.ndarray'>\n",
      "shape : (3, 3)\tdimension = 2\n",
      "dtype : int32\n",
      "Array's data : \n",
      "[[ 3  4  5]\n",
      " [ 6  7  8]\n",
      " [ 9 10 11]]\n"
     ]
    }
   ],
   "source": [
    "arr4 = np.arange(1,10).reshape(3,3)\n",
    "arr5 = np.arange(3,12).reshape(3,3)\n",
    "asprint(arr4)\n",
    "asprint(arr5)"
   ]
  },
  {
   "cell_type": "code",
   "execution_count": 30,
   "id": "6d1ccd28",
   "metadata": {},
   "outputs": [
    {
     "name": "stdout",
     "output_type": "stream",
     "text": [
      "[[ 42  48  54]\n",
      " [ 96 111 126]\n",
      " [150 174 198]]\n"
     ]
    }
   ],
   "source": [
    "# 내적\n",
    "print(np.dot(arr4, arr5))"
   ]
  },
  {
   "cell_type": "code",
   "execution_count": 31,
   "id": "4edf684b",
   "metadata": {},
   "outputs": [
    {
     "name": "stdout",
     "output_type": "stream",
     "text": [
      "[[ 54  66  78]\n",
      " [ 90 111 132]\n",
      " [126 156 186]]\n"
     ]
    }
   ],
   "source": [
    "# 행렬의 곱에서 매게변수 순서에 따라 결과가 달라질 수 있다.\n",
    "print(np.dot(arr5, arr4))"
   ]
  },
  {
   "cell_type": "code",
   "execution_count": 32,
   "id": "19f60a4a",
   "metadata": {},
   "outputs": [
    {
     "name": "stdout",
     "output_type": "stream",
     "text": [
      "[[1 2]\n",
      " [3 4]\n",
      " [5 6]]\n",
      "\n",
      "[[3 4 5]\n",
      " [6 7 8]]\n"
     ]
    }
   ],
   "source": [
    "arr6 = np.arange(1,7).reshape(3,2)\n",
    "arr7 = np.arange(3,9).reshape(2,3)\n",
    "print(arr6)\n",
    "print()\n",
    "print(arr7)"
   ]
  },
  {
   "cell_type": "code",
   "execution_count": 33,
   "id": "3a2e8714",
   "metadata": {},
   "outputs": [
    {
     "data": {
      "text/plain": [
       "array([[15, 18, 21],\n",
       "       [33, 40, 47],\n",
       "       [51, 62, 73]])"
      ]
     },
     "execution_count": 33,
     "metadata": {},
     "output_type": "execute_result"
    }
   ],
   "source": [
    "# 행렬의 내적\n",
    "np.dot(arr6, arr7)"
   ]
  },
  {
   "attachments": {
    "image.png": {
     "image/png": "[encoded data removed]"
    }
   },
   "cell_type": "markdown",
   "id": "008d36f1",
   "metadata": {},
   "source": [
    "### 4-3. 집계 합수\n",
    "![image.png](attachment:image.png)"
   ]
  },
  {
   "cell_type": "code",
   "execution_count": 42,
   "id": "88d7e619",
   "metadata": {},
   "outputs": [
    {
     "name": "stdout",
     "output_type": "stream",
     "text": [
      "배열 :  [ 5 10 15 20 25 30]\n",
      "최대값 :  30\n",
      "최소값 :  5\n",
      "합계 :  105\n",
      "누적합계 :  [  5  15  30  50  75 105]\n",
      "중앙값 :  17.5\n",
      "평균 :  17.5\n",
      "표준편차 :  8.539125638299666\n",
      "분산 :  72.91666666666667\n"
     ]
    }
   ],
   "source": [
    "arr8 = np.arange(5,31,5)\n",
    "print('배열 : ', arr8)\n",
    "print('최대값 : ', np.max(arr8))\n",
    "print('최소값 : ', np.min(arr8))\n",
    "print('합계 : ', np.sum(arr8))\n",
    "print('누적합계 : ', np.cumsum(arr8))\n",
    "print('중앙값 : ', np.median(arr8))\n",
    "print('평균 : ', np.mean(arr8))\n",
    "print('표준편차 : ', np.std(arr8))\n",
    "print('분산 : ', np.var(arr8))"
   ]
  },
  {
   "cell_type": "code",
   "execution_count": null,
   "id": "be9e8359",
   "metadata": {},
   "outputs": [],
   "source": []
  }
 ],
 "metadata": {
  "kernelspec": {
   "display_name": "Python 3",
   "language": "python",
   "name": "python3"
  },
  "language_info": {
   "codemirror_mode": {
    "name": "ipython",
    "version": 3
   },
   "file_extension": ".py",
   "mimetype": "text/x-python",
   "name": "python",
   "nbconvert_exporter": "python",
   "pygments_lexer": "ipython3",
   "version": "3.8.8"
  }
 },
 "nbformat": 4,
 "nbformat_minor": 5
}
