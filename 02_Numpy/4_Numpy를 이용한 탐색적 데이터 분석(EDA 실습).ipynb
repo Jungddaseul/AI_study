{
 "cells": [
  {
   "cell_type": "markdown",
   "id": "1680ca77",
   "metadata": {},
   "source": [
    "### 문제 정의 : 미국 역대 대통령 신장 데이터를 통한 EDA\n",
    "- order, name, height 컬럼이 있음"
   ]
  },
  {
   "cell_type": "code",
   "execution_count": 61,
   "id": "1b8352fa",
   "metadata": {},
   "outputs": [],
   "source": [
    "import numpy as np"
   ]
  },
  {
   "cell_type": "code",
   "execution_count": 62,
   "id": "83b3d4cc",
   "metadata": {},
   "outputs": [],
   "source": [
    "# 데이터 저장을 위한 list 생성\n",
    "orders = []\n",
    "names = []\n",
    "heights = []"
   ]
  },
  {
   "cell_type": "code",
   "execution_count": 75,
   "id": "dd18571a",
   "metadata": {},
   "outputs": [],
   "source": [
    "with open( './president_heights.csv' ) as f:\n",
    "    lines = f.readline() # 제목줄 읽기\n",
    "\n",
    "    lines = f.readline()\n",
    "    while lines:\n",
    "        data = lines.split( ',' )\n",
    "\n",
    "        orders.append( data[0] )\n",
    "        names.append( data[1] )\n",
    "        heights.append(int(data[2][:3])) # data[2]로 할 경우 '\\n' 포함되므로 (data[2][:3])\n",
    "\n",
    "        lines = f.readline()"
   ]
  },
  {
   "cell_type": "code",
   "execution_count": 78,
   "id": "b00427c4",
   "metadata": {},
   "outputs": [
    {
     "data": {
      "text/plain": [
       "['44', 'Barack Obama', '185\\n']"
      ]
     },
     "execution_count": 78,
     "metadata": {},
     "output_type": "execute_result"
    }
   ],
   "source": [
    "data"
   ]
  },
  {
   "cell_type": "code",
   "execution_count": 82,
   "id": "7f7d44be",
   "metadata": {},
   "outputs": [
    {
     "name": "stdout",
     "output_type": "stream",
     "text": [
      "44\n",
      "Barack Obama\n",
      "185\n",
      "\n",
      "185\n",
      "4\n",
      "3\n"
     ]
    }
   ],
   "source": [
    "print(data[0])\n",
    "print(data[1])\n",
    "print(data[2])\n",
    "print(data[2][:3])\n",
    "print(len(data[2]))\n",
    "print(len(data[2][:3]))"
   ]
  },
  {
   "cell_type": "code",
   "execution_count": 84,
   "id": "423c7fb7",
   "metadata": {},
   "outputs": [
    {
     "name": "stdout",
     "output_type": "stream",
     "text": [
      "['1', '2', '3', '4', '5']\n",
      "['40', '41', '42', '43', '44']\n"
     ]
    }
   ],
   "source": [
    "#  orders데이터 상위, 하위 5개 데이터확인\n",
    "print(orders[:5])\n",
    "print(orders[-5:])"
   ]
  },
  {
   "cell_type": "code",
   "execution_count": 86,
   "id": "cdbc0566",
   "metadata": {},
   "outputs": [
    {
     "name": "stdout",
     "output_type": "stream",
     "text": [
      "['George Washington', 'John Adams', 'Thomas Jefferson', 'James Madison', 'James Monroe']\n",
      "['Ronald Reagan', 'George H. W. Bush', 'Bill Clinton', 'George W. Bush', 'Barack Obama']\n"
     ]
    }
   ],
   "source": [
    "#  names 데이터 상위, 하위 5개 데이터확인\n",
    "print(names[:5])\n",
    "print(names[-5:])"
   ]
  },
  {
   "cell_type": "code",
   "execution_count": 85,
   "id": "45f60dc5",
   "metadata": {},
   "outputs": [
    {
     "name": "stdout",
     "output_type": "stream",
     "text": [
      "[189, 170, 189, 163, 183]\n",
      "[185, 188, 188, 182, 185]\n"
     ]
    }
   ],
   "source": [
    "#  heights 데이터 상위, 하위 5개 데이터확인\n",
    "print(heights[:5])\n",
    "print(heights[-5:])"
   ]
  },
  {
   "cell_type": "markdown",
   "id": "6d588d0a",
   "metadata": {},
   "source": [
    "### numpy 배열로 변환"
   ]
  },
  {
   "cell_type": "code",
   "execution_count": 87,
   "id": "263092f2",
   "metadata": {},
   "outputs": [],
   "source": [
    "order_array = np.array( orders )\n",
    "name_array = np.array( names )\n",
    "height_array = np.array( heights )"
   ]
  },
  {
   "cell_type": "code",
   "execution_count": 88,
   "id": "6b659733",
   "metadata": {},
   "outputs": [
    {
     "data": {
      "text/plain": [
       "array(['1', '2', '3', '4', '5', '6', '7', '8', '9', '10', '11', '12',\n",
       "       '13', '14', '15', '16', '17', '18', '19', '20', '21', '23', '25',\n",
       "       '26', '27', '28', '29', '30', '31', '32', '33', '34', '35', '36',\n",
       "       '37', '38', '39', '40', '41', '42', '43', '44'], dtype='<U2')"
      ]
     },
     "execution_count": 88,
     "metadata": {},
     "output_type": "execute_result"
    }
   ],
   "source": [
    "order_array"
   ]
  },
  {
   "cell_type": "code",
   "execution_count": 89,
   "id": "873ab9fe",
   "metadata": {},
   "outputs": [
    {
     "data": {
      "text/plain": [
       "array(['George Washington', 'John Adams', 'Thomas Jefferson',\n",
       "       'James Madison', 'James Monroe', 'John Quincy Adams',\n",
       "       'Andrew Jackson', 'Martin Van Buren', 'William Henry Harrison',\n",
       "       'John Tyler', 'James K. Polk', 'Zachary Taylor',\n",
       "       'Millard Fillmore', 'Franklin Pierce', 'James Buchanan',\n",
       "       'Abraham Lincoln', 'Andrew Johnson', 'Ulysses S. Grant',\n",
       "       'Rutherford B. Hayes', 'James A. Garfield', 'Chester A. Arthur',\n",
       "       'Benjamin Harrison', 'William McKinley', 'Theodore Roosevelt',\n",
       "       'William Howard Taft', 'Woodrow Wilson', 'Warren G. Harding',\n",
       "       'Calvin Coolidge', 'Herbert Hoover', 'Franklin D. Roosevelt',\n",
       "       'Harry S. Truman', 'Dwight D. Eisenhower', 'John F. Kennedy',\n",
       "       'Lyndon B. Johnson', 'Richard Nixon', 'Gerald Ford',\n",
       "       'Jimmy Carter', 'Ronald Reagan', 'George H. W. Bush',\n",
       "       'Bill Clinton', 'George W. Bush', 'Barack Obama'], dtype='<U22')"
      ]
     },
     "execution_count": 89,
     "metadata": {},
     "output_type": "execute_result"
    }
   ],
   "source": [
    "name_array"
   ]
  },
  {
   "cell_type": "code",
   "execution_count": 77,
   "id": "624334d1",
   "metadata": {},
   "outputs": [
    {
     "data": {
      "text/plain": [
       "array([189, 170, 189, 163, 183, 171, 185, 168, 173, 183, 173, 173, 175,\n",
       "       178, 183, 193, 178, 173, 174, 183, 183, 168, 170, 178, 182, 180,\n",
       "       183, 178, 182, 188, 175, 179, 183, 193, 182, 183, 177, 185, 188,\n",
       "       188, 182, 185])"
      ]
     },
     "execution_count": 77,
     "metadata": {},
     "output_type": "execute_result"
    }
   ],
   "source": [
    "height_array "
   ]
  },
  {
   "cell_type": "markdown",
   "id": "d3837724",
   "metadata": {},
   "source": [
    "### numpy 집계함수를 이용한 탐색적 데이터 분석"
   ]
  },
  {
   "cell_type": "code",
   "execution_count": 95,
   "id": "f49f7f22",
   "metadata": {},
   "outputs": [
    {
     "name": "stdout",
     "output_type": "stream",
     "text": [
      "최소 신장 : 163 cm\n",
      "최고 신장 : 193 cm\n",
      "\n",
      "평균 신장 :  179.74 cm\n",
      "분     산 :   48.05\n",
      "표준 편차 :    6.93\n",
      "\n",
      "1사분위수 : 174.25 cm\n",
      "2사분위수 : 182.0 cm\n",
      " 중 앙 값 : 182.0 cm\n",
      "3사분위수 : 183.0 cm\n"
     ]
    }
   ],
   "source": [
    "print( f'최소 신장 : {height_array.min()} cm' )\n",
    "print( f'최고 신장 : {height_array.max()} cm\\n' )\n",
    "\n",
    "print( f'평균 신장 : {height_array.mean():7.2f} cm' ) # 필드 폭을 7로 정하고 소수점 이하 2자리만 표현\n",
    "print( f'분     산 : {height_array.var():7.2f}' )\n",
    "print( f'표준 편차 : {height_array.std():7.2f}\\n' )\n",
    "\n",
    "print( f'1사분위수 : {np.percentile( height_array, 25 ):5} cm' ) # 필드 폭을 5로 고정\n",
    "print( f'2사분위수 : {np.percentile( height_array, 50 ):5} cm' )\n",
    "print( f' 중 앙 값 : {np.median( height_array ):5} cm' )\n",
    "print( f'3사분위수 : {np.percentile( height_array, 75 ):5} cm' )"
   ]
  },
  {
   "cell_type": "code",
   "execution_count": 96,
   "id": "bd03bc34",
   "metadata": {},
   "outputs": [
    {
     "name": "stdout",
     "output_type": "stream",
     "text": [
      "최소 신장 대통령 : 163 cm (          4          James Madison )\n",
      "최고 신장 대통령 : 193 cm (          16          Abraham Lincoln )\n"
     ]
    }
   ],
   "source": [
    "print( f'최소 신장 대통령 : {height_array.min()} cm ( \\\n",
    "         {order_array[ height_array.argmin() ]} \\\n",
    "         {name_array[ height_array.argmin() ]} )' )\n",
    "print( f'최고 신장 대통령 : {height_array.max()} cm ( \\\n",
    "         {order_array[ height_array.argmax() ]} \\\n",
    "         {name_array[ height_array.argmax() ]} )' )"
   ]
  },
  {
   "cell_type": "code",
   "execution_count": null,
   "id": "25e1061a",
   "metadata": {},
   "outputs": [],
   "source": []
  }
 ],
 "metadata": {
  "kernelspec": {
   "display_name": "Python 3",
   "language": "python",
   "name": "python3"
  },
  "language_info": {
   "codemirror_mode": {
    "name": "ipython",
    "version": 3
   },
   "file_extension": ".py",
   "mimetype": "text/x-python",
   "name": "python",
   "nbconvert_exporter": "python",
   "pygments_lexer": "ipython3",
   "version": "3.8.8"
  }
 },
 "nbformat": 4,
 "nbformat_minor": 5
}
