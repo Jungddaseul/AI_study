{
 "cells": [
  {
   "cell_type": "code",
   "execution_count": 6,
   "id": "e88fb46c",
   "metadata": {},
   "outputs": [],
   "source": [
    "import pandas as pd\n",
    "\n",
    "train = pd.read_csv(\"C:/Users/JDDS/OneDrive/문서/github/AI_study/04_ML/titanic_data/train.csv\")\n",
    "test = pd.read_csv(\"C:/Users/JDDS/OneDrive/문서/github/AI_study/04_ML/titanic_data/test.csv\")\n",
    "sub = pd.read_csv(\"C:/Users/JDDS/OneDrive/문서/github/AI_study/04_ML/titanic_data/gender_submission.csv\")"
   ]
  },
  {
   "cell_type": "markdown",
   "id": "871d673d",
   "metadata": {},
   "source": [
    "### 1-1 데이터 셋 불러오기\n",
    "- train.csv : 학습을 위한 데이터 셋\n",
    "- test.csv : 테스트를 위한 데이터 셋\n",
    "- gender_submission.csv : 예측 내용 제출용 데이터 셋"
   ]
  },
  {
   "cell_type": "markdown",
   "id": "cab99199",
   "metadata": {},
   "source": [
    "### 1-2 데이터 탐색하기\n",
    "- 데이터의 행과 열( shape )\n",
    "- 컬럼명 확인\n",
    "- 각 컬럼의 자료형\n",
    "- 컬럼 결측치의 확인\n",
    "- 앞뒤 데이터 확인\n",
    "- 각 열 요약값 확인"
   ]
  },
  {
   "cell_type": "code",
   "execution_count": 7,
   "id": "145a0950",
   "metadata": {},
   "outputs": [
    {
     "name": "stdout",
     "output_type": "stream",
     "text": [
      "(891, 12)\n",
      "(418, 11)\n",
      "(418, 2)\n"
     ]
    }
   ],
   "source": [
    "print(train.shape)\n",
    "print(test.shape)\n",
    "print(sub.shape)"
   ]
  },
  {
   "cell_type": "code",
   "execution_count": 8,
   "id": "cbdbb09e",
   "metadata": {},
   "outputs": [
    {
     "name": "stdout",
     "output_type": "stream",
     "text": [
      "Index(['PassengerId', 'Survived', 'Pclass', 'Name', 'Sex', 'Age', 'SibSp',\n",
      "       'Parch', 'Ticket', 'Fare', 'Cabin', 'Embarked'],\n",
      "      dtype='object')\n",
      "Index(['PassengerId', 'Pclass', 'Name', 'Sex', 'Age', 'SibSp', 'Parch',\n",
      "       'Ticket', 'Fare', 'Cabin', 'Embarked'],\n",
      "      dtype='object')\n"
     ]
    }
   ],
   "source": [
    "print(train.columns)\n",
    "print(test.columns)"
   ]
  },
  {
   "cell_type": "code",
   "execution_count": 9,
   "id": "de95c76d",
   "metadata": {},
   "outputs": [
    {
     "name": "stdout",
     "output_type": "stream",
     "text": [
      "<class 'pandas.core.frame.DataFrame'>\n",
      "RangeIndex: 891 entries, 0 to 890\n",
      "Data columns (total 12 columns):\n",
      " #   Column       Non-Null Count  Dtype  \n",
      "---  ------       --------------  -----  \n",
      " 0   PassengerId  891 non-null    int64  \n",
      " 1   Survived     891 non-null    int64  \n",
      " 2   Pclass       891 non-null    int64  \n",
      " 3   Name         891 non-null    object \n",
      " 4   Sex          891 non-null    object \n",
      " 5   Age          714 non-null    float64\n",
      " 6   SibSp        891 non-null    int64  \n",
      " 7   Parch        891 non-null    int64  \n",
      " 8   Ticket       891 non-null    object \n",
      " 9   Fare         891 non-null    float64\n",
      " 10  Cabin        204 non-null    object \n",
      " 11  Embarked     889 non-null    object \n",
      "dtypes: float64(2), int64(5), object(5)\n",
      "memory usage: 83.7+ KB\n"
     ]
    }
   ],
   "source": [
    "train.info()"
   ]
  },
  {
   "cell_type": "code",
   "execution_count": 11,
   "id": "50b05d22",
   "metadata": {},
   "outputs": [
    {
     "data": {
      "text/plain": [
       "PassengerId      0\n",
       "Survived         0\n",
       "Pclass           0\n",
       "Name             0\n",
       "Sex              0\n",
       "Age            177\n",
       "SibSp            0\n",
       "Parch            0\n",
       "Ticket           0\n",
       "Fare             0\n",
       "Cabin          687\n",
       "Embarked         2\n",
       "dtype: int64"
      ]
     },
     "execution_count": 11,
     "metadata": {},
     "output_type": "execute_result"
    }
   ],
   "source": [
    "train.isnull().sum()"
   ]
  },
  {
   "cell_type": "code",
   "execution_count": 10,
   "id": "6566ca31",
   "metadata": {},
   "outputs": [
    {
     "name": "stdout",
     "output_type": "stream",
     "text": [
      "<class 'pandas.core.frame.DataFrame'>\n",
      "RangeIndex: 418 entries, 0 to 417\n",
      "Data columns (total 11 columns):\n",
      " #   Column       Non-Null Count  Dtype  \n",
      "---  ------       --------------  -----  \n",
      " 0   PassengerId  418 non-null    int64  \n",
      " 1   Pclass       418 non-null    int64  \n",
      " 2   Name         418 non-null    object \n",
      " 3   Sex          418 non-null    object \n",
      " 4   Age          332 non-null    float64\n",
      " 5   SibSp        418 non-null    int64  \n",
      " 6   Parch        418 non-null    int64  \n",
      " 7   Ticket       418 non-null    object \n",
      " 8   Fare         417 non-null    float64\n",
      " 9   Cabin        91 non-null     object \n",
      " 10  Embarked     418 non-null    object \n",
      "dtypes: float64(2), int64(4), object(5)\n",
      "memory usage: 36.0+ KB\n"
     ]
    }
   ],
   "source": [
    "test.info()"
   ]
  },
  {
   "cell_type": "code",
   "execution_count": 13,
   "id": "9009209a",
   "metadata": {},
   "outputs": [
    {
     "data": {
      "text/plain": [
       "PassengerId      0\n",
       "Pclass           0\n",
       "Name             0\n",
       "Sex              0\n",
       "Age             86\n",
       "SibSp            0\n",
       "Parch            0\n",
       "Ticket           0\n",
       "Fare             1\n",
       "Cabin          327\n",
       "Embarked         0\n",
       "dtype: int64"
      ]
     },
     "execution_count": 13,
     "metadata": {},
     "output_type": "execute_result"
    }
   ],
   "source": [
    "test.isnull().sum()"
   ]
  },
  {
   "cell_type": "markdown",
   "id": "b81765fc",
   "metadata": {},
   "source": [
    "### 1-3 모델 만들고 제출\n",
    "- 학습용 데이터 셋에서 학습할 컬럼 선택한다.\n",
    "- 모델 선택 후, 학습\n",
    "  * 모델(knn)을 생성 후, 학습(fit)\n",
    "- 그리고 예측(predict)을 수행 후, 제출한다."
   ]
  },
  {
   "cell_type": "code",
   "execution_count": 15,
   "id": "ed1d7036",
   "metadata": {},
   "outputs": [],
   "source": [
    "from sklearn.neighbors import KNeighborsClassifier\n"
   ]
  },
  {
   "cell_type": "code",
   "execution_count": 16,
   "id": "52329952",
   "metadata": {},
   "outputs": [
    {
     "data": {
      "text/plain": [
       "((891, 4), (891,), (418, 4))"
      ]
     },
     "execution_count": 16,
     "metadata": {},
     "output_type": "execute_result"
    }
   ],
   "source": [
    "# 데이터 준비 - 빠른 모델 생성을 위해 데이터 전처리가 불필요한 피처(변수)만 선택\n",
    "# 'Survived'를 제외 (예측해야할 피처) , \n",
    "# 'Embarked', 'Sex'',Name', 'Ticket' => 문자포함\n",
    "#  'Age' : 결측치가 있음\n",
    "sel = ['PassengerId', 'Pclass', 'SibSp', 'Parch' ]\n",
    "\n",
    "# 학습에 사용될 데이터 준비 X_train, y_train\n",
    "X_train = train[sel]\n",
    "y_train = train['Survived']\n",
    "\n",
    "# 학습 후, 테스트에 사용될 피처 선택\n",
    "X_test = test[sel]\n",
    "\n",
    "X_train.shape, y_train.shape, X_test.shape"
   ]
  },
  {
   "cell_type": "code",
   "execution_count": 17,
   "id": "7ce45279",
   "metadata": {},
   "outputs": [
    {
     "data": {
      "text/plain": [
       "array([0, 0, 0, 0, 0, 0, 0, 0, 0, 0, 0, 0, 0, 0, 0], dtype=int64)"
      ]
     },
     "execution_count": 17,
     "metadata": {},
     "output_type": "execute_result"
    }
   ],
   "source": [
    "# 모델 선택\n",
    "model = KNeighborsClassifier()\n",
    "\n",
    "# 학습\n",
    "model.fit(X_train, y_train)\n",
    "\n",
    "# 예측\n",
    "pred = model.predict(X_test)\n",
    "pred[:15]   # 예측한 값을 15개 정도 확인"
   ]
  },
  {
   "cell_type": "code",
   "execution_count": 18,
   "id": "98e86d6c",
   "metadata": {},
   "outputs": [
    {
     "data": {
      "text/plain": [
       "Index(['PassengerId', 'Survived'], dtype='object')"
      ]
     },
     "execution_count": 18,
     "metadata": {},
     "output_type": "execute_result"
    }
   ],
   "source": [
    "# 제출\n",
    "sub.columns"
   ]
  },
  {
   "cell_type": "code",
   "execution_count": 19,
   "id": "69796c44",
   "metadata": {},
   "outputs": [],
   "source": [
    "sub['Survived'] = pred\n",
    "sub.to_csv(\"first_sub.csv\", index=False)"
   ]
  },
  {
   "cell_type": "markdown",
   "id": "985bfbd9",
   "metadata": {},
   "source": [
    "##  제출 절차\n",
    "1. Titanic 대회 이동\n",
    "2. 'Leaderboard' 선택\n",
    "  * https://www.kaggle.com/competitions/titanic/leaderboard\n",
    "3. 'Submit Predictions' 선택\n",
    "4. 제출용 파일을 Upload을 수행.\n",
    "5. 간단한 설명이 필요하면 이를 쓰고, 'Make Submission'을 선택하여 제출 수행.\n",
    "6. 제출이 정상적으로 이루어지면 나의 현재 스코어와 Rank의 확인이 가능하다."
   ]
  },
  {
   "cell_type": "code",
   "execution_count": null,
   "id": "de6de0c2",
   "metadata": {},
   "outputs": [],
   "source": []
  }
 ],
 "metadata": {
  "kernelspec": {
   "display_name": "Python 3",
   "language": "python",
   "name": "python3"
  },
  "language_info": {
   "codemirror_mode": {
    "name": "ipython",
    "version": 3
   },
   "file_extension": ".py",
   "mimetype": "text/x-python",
   "name": "python",
   "nbconvert_exporter": "python",
   "pygments_lexer": "ipython3",
   "version": "3.9.4"
  }
 },
 "nbformat": 4,
 "nbformat_minor": 5
}
